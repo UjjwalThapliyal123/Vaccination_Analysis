{
 "cells": [
  {
   "cell_type": "code",
   "execution_count": 1,
   "id": "b1a56c0d-1d08-47c6-af7f-3255ed1811f8",
   "metadata": {},
   "outputs": [],
   "source": [
    "import pandas as pd\n",
    "import numpy as np\n",
    "import warnings \n",
    "warnings.filterwarnings('ignore')"
   ]
  },
  {
   "cell_type": "code",
   "execution_count": 2,
   "id": "48ef0a4e-f7b8-461a-aea0-daee71dd6deb",
   "metadata": {},
   "outputs": [],
   "source": [
    "fileName1='incidence-rate-data.xlsx - Data.csv'\n",
    "fileName2='coverage-data.xlsx'\n",
    "fileName3='vaccine-schedule-data.xlsx'\n",
    "fileName4='vaccine-introduction-data.xlsx'\n",
    "fileName5='reported-cases-data.xlsx'"
   ]
  },
  {
   "cell_type": "code",
   "execution_count": 3,
   "id": "8480136a-ebfb-484d-a936-ad69187147b5",
   "metadata": {},
   "outputs": [],
   "source": [
    "Incidence_data=pd.read_csv(fileName1)\n",
    "Coverage_data=pd.read_excel(fileName2)\n",
    "schedule_data=pd.read_excel(fileName3)\n",
    "intro_data=pd.read_excel(fileName4)\n",
    "report_case_data=pd.read_excel(fileName5)"
   ]
  },
  {
   "cell_type": "code",
   "execution_count": 4,
   "id": "1e15a892-655e-4b73-a2e2-9e23f6b6b1de",
   "metadata": {},
   "outputs": [
    {
     "data": {
      "text/plain": [
       "GROUP                      0\n",
       "CODE                       1\n",
       "NAME                       1\n",
       "YEAR                       1\n",
       "DISEASE                    1\n",
       "DISEASE_DESCRIPTION        1\n",
       "DENOMINATOR                1\n",
       "INCIDENCE_RATE         23362\n",
       "dtype: int64"
      ]
     },
     "execution_count": 4,
     "metadata": {},
     "output_type": "execute_result"
    }
   ],
   "source": [
    "Incidence_data.isnull().sum()"
   ]
  },
  {
   "cell_type": "code",
   "execution_count": 5,
   "id": "69e793cc-f83c-4bff-9324-cabd64ba4d1d",
   "metadata": {},
   "outputs": [],
   "source": [
    "Incidence=Incidence_data[~Incidence_data.CODE.isnull()]"
   ]
  },
  {
   "cell_type": "code",
   "execution_count": 6,
   "id": "08432b8a-586b-452e-bcef-e320ae430c0f",
   "metadata": {},
   "outputs": [
    {
     "data": {
      "text/plain": [
       "GROUP                      0\n",
       "CODE                       0\n",
       "NAME                       0\n",
       "YEAR                       0\n",
       "DISEASE                    0\n",
       "DISEASE_DESCRIPTION        0\n",
       "DENOMINATOR                0\n",
       "INCIDENCE_RATE         23361\n",
       "dtype: int64"
      ]
     },
     "execution_count": 6,
     "metadata": {},
     "output_type": "execute_result"
    }
   ],
   "source": [
    "Incidence.isnull().sum()"
   ]
  },
  {
   "cell_type": "code",
   "execution_count": 7,
   "id": "10ef850a-cfc2-4ca1-9728-95218e96666b",
   "metadata": {},
   "outputs": [
    {
     "data": {
      "text/plain": [
       "61584"
      ]
     },
     "execution_count": 7,
     "metadata": {},
     "output_type": "execute_result"
    }
   ],
   "source": [
    "Incidence['INCIDENCE_RATE'].notnull().sum()"
   ]
  },
  {
   "cell_type": "code",
   "execution_count": 8,
   "id": "61590391-0969-4edb-8a75-903be559d4a8",
   "metadata": {},
   "outputs": [
    {
     "data": {
      "text/plain": [
       "23361"
      ]
     },
     "execution_count": 8,
     "metadata": {},
     "output_type": "execute_result"
    }
   ],
   "source": [
    "Incidence['INCIDENCE_RATE'].isnull().sum()"
   ]
  },
  {
   "cell_type": "code",
   "execution_count": 9,
   "id": "8ced2673-7033-45a1-a34e-ed3bca2f28c2",
   "metadata": {},
   "outputs": [
    {
     "name": "stdout",
     "output_type": "stream",
     "text": [
      "<class 'pandas.core.series.Series'>\n",
      "Index: 84945 entries, 0 to 84944\n",
      "Series name: INCIDENCE_RATE\n",
      "Non-Null Count  Dtype  \n",
      "--------------  -----  \n",
      "61584 non-null  float64\n",
      "dtypes: float64(1)\n",
      "memory usage: 1.3 MB\n"
     ]
    }
   ],
   "source": [
    "Incidence['INCIDENCE_RATE'].info()"
   ]
  },
  {
   "cell_type": "code",
   "execution_count": 10,
   "id": "affab3ef-e511-482b-9007-e1d6a21805cd",
   "metadata": {},
   "outputs": [
    {
     "data": {
      "text/plain": [
       "count    61584.000000\n",
       "mean       109.448781\n",
       "std        992.276983\n",
       "min          0.000000\n",
       "25%          0.000000\n",
       "50%          0.000000\n",
       "75%          4.600000\n",
       "max      69101.300000\n",
       "Name: INCIDENCE_RATE, dtype: float64"
      ]
     },
     "execution_count": 10,
     "metadata": {},
     "output_type": "execute_result"
    }
   ],
   "source": [
    "Incidence['INCIDENCE_RATE'].describe()"
   ]
  },
  {
   "cell_type": "code",
   "execution_count": 11,
   "id": "443243a2-7224-4fbe-ab58-13db77118879",
   "metadata": {},
   "outputs": [],
   "source": [
    "Incidence['INCIDENCE_RATE']=Incidence['INCIDENCE_RATE'].fillna(method='ffill')"
   ]
  },
  {
   "cell_type": "code",
   "execution_count": 12,
   "id": "e6e54277-3d2f-4d25-9117-2224b0344251",
   "metadata": {},
   "outputs": [
    {
     "data": {
      "text/plain": [
       "GROUP                  84945\n",
       "CODE                   84945\n",
       "NAME                   84945\n",
       "YEAR                   84945\n",
       "DISEASE                84945\n",
       "DISEASE_DESCRIPTION    84945\n",
       "DENOMINATOR            84945\n",
       "INCIDENCE_RATE         84945\n",
       "dtype: int64"
      ]
     },
     "execution_count": 12,
     "metadata": {},
     "output_type": "execute_result"
    }
   ],
   "source": [
    "Incidence.notnull().sum()"
   ]
  },
  {
   "cell_type": "code",
   "execution_count": 13,
   "id": "65dcbe5d-6f1e-4277-ba89-84a4787f9bc9",
   "metadata": {},
   "outputs": [
    {
     "data": {
      "text/plain": [
       "GROUP                  0\n",
       "CODE                   0\n",
       "NAME                   0\n",
       "YEAR                   0\n",
       "DISEASE                0\n",
       "DISEASE_DESCRIPTION    0\n",
       "DENOMINATOR            0\n",
       "INCIDENCE_RATE         0\n",
       "dtype: int64"
      ]
     },
     "execution_count": 13,
     "metadata": {},
     "output_type": "execute_result"
    }
   ],
   "source": [
    "Incidence.isnull().sum()"
   ]
  },
  {
   "cell_type": "code",
   "execution_count": 14,
   "id": "41849b5e-ce8f-422a-9a1a-3f993a942f2b",
   "metadata": {},
   "outputs": [],
   "source": [
    "Incidence.to_csv(\"incidence_rate.csv\",index=False)\n"
   ]
  },
  {
   "cell_type": "code",
   "execution_count": 15,
   "id": "e3f9036c-2d5c-4f66-b99a-74dba507e95e",
   "metadata": {},
   "outputs": [
    {
     "data": {
      "text/plain": [
       "(84945, 8)"
      ]
     },
     "execution_count": 15,
     "metadata": {},
     "output_type": "execute_result"
    }
   ],
   "source": [
    "Incidence.shape"
   ]
  },
  {
   "cell_type": "code",
   "execution_count": 16,
   "id": "106269e8-1a38-413c-95a5-9762a154f4ed",
   "metadata": {},
   "outputs": [],
   "source": [
    "data_inc=pd.read_csv('incidence_rate.csv')"
   ]
  },
  {
   "cell_type": "code",
   "execution_count": 17,
   "id": "5a827c39-e4b3-4892-bdad-937480320e01",
   "metadata": {},
   "outputs": [
    {
     "data": {
      "text/plain": [
       "(84945, 8)"
      ]
     },
     "execution_count": 17,
     "metadata": {},
     "output_type": "execute_result"
    }
   ],
   "source": [
    "data_inc.shape"
   ]
  },
  {
   "cell_type": "code",
   "execution_count": 18,
   "id": "ab80bff1-3dba-485d-ad49-5ea650fcd430",
   "metadata": {},
   "outputs": [
    {
     "data": {
      "text/html": [
       "<div>\n",
       "<style scoped>\n",
       "    .dataframe tbody tr th:only-of-type {\n",
       "        vertical-align: middle;\n",
       "    }\n",
       "\n",
       "    .dataframe tbody tr th {\n",
       "        vertical-align: top;\n",
       "    }\n",
       "\n",
       "    .dataframe thead th {\n",
       "        text-align: right;\n",
       "    }\n",
       "</style>\n",
       "<table border=\"1\" class=\"dataframe\">\n",
       "  <thead>\n",
       "    <tr style=\"text-align: right;\">\n",
       "      <th></th>\n",
       "      <th>GROUP</th>\n",
       "      <th>CODE</th>\n",
       "      <th>NAME</th>\n",
       "      <th>YEAR</th>\n",
       "      <th>DISEASE</th>\n",
       "      <th>DISEASE_DESCRIPTION</th>\n",
       "      <th>DENOMINATOR</th>\n",
       "      <th>INCIDENCE_RATE</th>\n",
       "    </tr>\n",
       "  </thead>\n",
       "  <tbody>\n",
       "    <tr>\n",
       "      <th>0</th>\n",
       "      <td>COUNTRIES</td>\n",
       "      <td>ABW</td>\n",
       "      <td>Aruba</td>\n",
       "      <td>2023.0</td>\n",
       "      <td>CRS</td>\n",
       "      <td>Congenital rubella syndrome</td>\n",
       "      <td>per 10,000 live births</td>\n",
       "      <td>0.0</td>\n",
       "    </tr>\n",
       "    <tr>\n",
       "      <th>1</th>\n",
       "      <td>COUNTRIES</td>\n",
       "      <td>ABW</td>\n",
       "      <td>Aruba</td>\n",
       "      <td>2023.0</td>\n",
       "      <td>DIPHTHERIA</td>\n",
       "      <td>Diphtheria</td>\n",
       "      <td>per 1,000,000 total population</td>\n",
       "      <td>0.0</td>\n",
       "    </tr>\n",
       "    <tr>\n",
       "      <th>2</th>\n",
       "      <td>COUNTRIES</td>\n",
       "      <td>ABW</td>\n",
       "      <td>Aruba</td>\n",
       "      <td>2023.0</td>\n",
       "      <td>INVASIVE_MENING</td>\n",
       "      <td>Invasive meningococcal disease</td>\n",
       "      <td>per 1,000,000 total population</td>\n",
       "      <td>9.3</td>\n",
       "    </tr>\n",
       "    <tr>\n",
       "      <th>3</th>\n",
       "      <td>COUNTRIES</td>\n",
       "      <td>ABW</td>\n",
       "      <td>Aruba</td>\n",
       "      <td>2023.0</td>\n",
       "      <td>MEASLES</td>\n",
       "      <td>Measles</td>\n",
       "      <td>per 1,000,000 total population</td>\n",
       "      <td>9.3</td>\n",
       "    </tr>\n",
       "    <tr>\n",
       "      <th>4</th>\n",
       "      <td>COUNTRIES</td>\n",
       "      <td>ABW</td>\n",
       "      <td>Aruba</td>\n",
       "      <td>2023.0</td>\n",
       "      <td>MUMPS</td>\n",
       "      <td>Mumps</td>\n",
       "      <td>per 1,000,000 total population</td>\n",
       "      <td>0.0</td>\n",
       "    </tr>\n",
       "  </tbody>\n",
       "</table>\n",
       "</div>"
      ],
      "text/plain": [
       "       GROUP CODE   NAME    YEAR          DISEASE  \\\n",
       "0  COUNTRIES  ABW  Aruba  2023.0              CRS   \n",
       "1  COUNTRIES  ABW  Aruba  2023.0       DIPHTHERIA   \n",
       "2  COUNTRIES  ABW  Aruba  2023.0  INVASIVE_MENING   \n",
       "3  COUNTRIES  ABW  Aruba  2023.0          MEASLES   \n",
       "4  COUNTRIES  ABW  Aruba  2023.0            MUMPS   \n",
       "\n",
       "              DISEASE_DESCRIPTION                     DENOMINATOR  \\\n",
       "0     Congenital rubella syndrome          per 10,000 live births   \n",
       "1                      Diphtheria  per 1,000,000 total population   \n",
       "2  Invasive meningococcal disease  per 1,000,000 total population   \n",
       "3                         Measles  per 1,000,000 total population   \n",
       "4                           Mumps  per 1,000,000 total population   \n",
       "\n",
       "   INCIDENCE_RATE  \n",
       "0             0.0  \n",
       "1             0.0  \n",
       "2             9.3  \n",
       "3             9.3  \n",
       "4             0.0  "
      ]
     },
     "execution_count": 18,
     "metadata": {},
     "output_type": "execute_result"
    }
   ],
   "source": [
    "data_inc.head()"
   ]
  },
  {
   "cell_type": "code",
   "execution_count": null,
   "id": "85fbea82-6f3b-4e38-9bdc-3df7bbf40272",
   "metadata": {},
   "outputs": [],
   "source": []
  },
  {
   "cell_type": "code",
   "execution_count": 19,
   "id": "4d5dee16-18ec-4107-9644-a08b36fcb14f",
   "metadata": {},
   "outputs": [
    {
     "data": {
      "text/plain": [
       "GROUP                                 0\n",
       "CODE                                  1\n",
       "NAME                               1275\n",
       "YEAR                                  1\n",
       "ANTIGEN                               1\n",
       "ANTIGEN_DESCRIPTION                   1\n",
       "COVERAGE_CATEGORY                     1\n",
       "COVERAGE_CATEGORY_DESCRIPTION         1\n",
       "TARGET_NUMBER                    320829\n",
       "DOSES                            320532\n",
       "COVERAGE                         169382\n",
       "dtype: int64"
      ]
     },
     "execution_count": 19,
     "metadata": {},
     "output_type": "execute_result"
    }
   ],
   "source": [
    "Coverage_data.isnull().sum()"
   ]
  },
  {
   "cell_type": "code",
   "execution_count": 20,
   "id": "ea4e7114-b365-40cc-86e5-87b658db4869",
   "metadata": {},
   "outputs": [
    {
     "name": "stdout",
     "output_type": "stream",
     "text": [
      "<class 'pandas.core.frame.DataFrame'>\n",
      "RangeIndex: 399859 entries, 0 to 399858\n",
      "Data columns (total 11 columns):\n",
      " #   Column                         Non-Null Count   Dtype  \n",
      "---  ------                         --------------   -----  \n",
      " 0   GROUP                          399859 non-null  object \n",
      " 1   CODE                           399858 non-null  object \n",
      " 2   NAME                           398584 non-null  object \n",
      " 3   YEAR                           399858 non-null  float64\n",
      " 4   ANTIGEN                        399858 non-null  object \n",
      " 5   ANTIGEN_DESCRIPTION            399858 non-null  object \n",
      " 6   COVERAGE_CATEGORY              399858 non-null  object \n",
      " 7   COVERAGE_CATEGORY_DESCRIPTION  399858 non-null  object \n",
      " 8   TARGET_NUMBER                  79030 non-null   float64\n",
      " 9   DOSES                          79327 non-null   float64\n",
      " 10  COVERAGE                       230477 non-null  float64\n",
      "dtypes: float64(4), object(7)\n",
      "memory usage: 33.6+ MB\n"
     ]
    }
   ],
   "source": [
    "Coverage_data.info()          "
   ]
  },
  {
   "cell_type": "code",
   "execution_count": 21,
   "id": "c97d22a5-f2f7-4381-a65d-08fc927b2758",
   "metadata": {},
   "outputs": [
    {
     "data": {
      "text/html": [
       "<div>\n",
       "<style scoped>\n",
       "    .dataframe tbody tr th:only-of-type {\n",
       "        vertical-align: middle;\n",
       "    }\n",
       "\n",
       "    .dataframe tbody tr th {\n",
       "        vertical-align: top;\n",
       "    }\n",
       "\n",
       "    .dataframe thead th {\n",
       "        text-align: right;\n",
       "    }\n",
       "</style>\n",
       "<table border=\"1\" class=\"dataframe\">\n",
       "  <thead>\n",
       "    <tr style=\"text-align: right;\">\n",
       "      <th></th>\n",
       "      <th>YEAR</th>\n",
       "      <th>TARGET_NUMBER</th>\n",
       "      <th>DOSES</th>\n",
       "      <th>COVERAGE</th>\n",
       "    </tr>\n",
       "  </thead>\n",
       "  <tbody>\n",
       "    <tr>\n",
       "      <th>count</th>\n",
       "      <td>399858.000000</td>\n",
       "      <td>7.903000e+04</td>\n",
       "      <td>7.932700e+04</td>\n",
       "      <td>230477.000000</td>\n",
       "    </tr>\n",
       "    <tr>\n",
       "      <th>mean</th>\n",
       "      <td>2009.207489</td>\n",
       "      <td>2.780192e+08</td>\n",
       "      <td>3.467241e+06</td>\n",
       "      <td>78.032914</td>\n",
       "    </tr>\n",
       "    <tr>\n",
       "      <th>std</th>\n",
       "      <td>11.720530</td>\n",
       "      <td>5.415244e+10</td>\n",
       "      <td>1.125676e+07</td>\n",
       "      <td>74.891697</td>\n",
       "    </tr>\n",
       "    <tr>\n",
       "      <th>min</th>\n",
       "      <td>1980.000000</td>\n",
       "      <td>0.000000e+00</td>\n",
       "      <td>-2.222882e+08</td>\n",
       "      <td>0.000000</td>\n",
       "    </tr>\n",
       "    <tr>\n",
       "      <th>25%</th>\n",
       "      <td>2002.000000</td>\n",
       "      <td>3.281400e+04</td>\n",
       "      <td>1.446900e+04</td>\n",
       "      <td>69.320000</td>\n",
       "    </tr>\n",
       "    <tr>\n",
       "      <th>50%</th>\n",
       "      <td>2012.000000</td>\n",
       "      <td>3.178715e+05</td>\n",
       "      <td>1.522120e+05</td>\n",
       "      <td>88.790000</td>\n",
       "    </tr>\n",
       "    <tr>\n",
       "      <th>75%</th>\n",
       "      <td>2019.000000</td>\n",
       "      <td>2.493048e+06</td>\n",
       "      <td>9.710185e+05</td>\n",
       "      <td>96.000000</td>\n",
       "    </tr>\n",
       "    <tr>\n",
       "      <th>max</th>\n",
       "      <td>2023.000000</td>\n",
       "      <td>1.170000e+13</td>\n",
       "      <td>1.266052e+08</td>\n",
       "      <td>32000.000000</td>\n",
       "    </tr>\n",
       "  </tbody>\n",
       "</table>\n",
       "</div>"
      ],
      "text/plain": [
       "                YEAR  TARGET_NUMBER         DOSES       COVERAGE\n",
       "count  399858.000000   7.903000e+04  7.932700e+04  230477.000000\n",
       "mean     2009.207489   2.780192e+08  3.467241e+06      78.032914\n",
       "std        11.720530   5.415244e+10  1.125676e+07      74.891697\n",
       "min      1980.000000   0.000000e+00 -2.222882e+08       0.000000\n",
       "25%      2002.000000   3.281400e+04  1.446900e+04      69.320000\n",
       "50%      2012.000000   3.178715e+05  1.522120e+05      88.790000\n",
       "75%      2019.000000   2.493048e+06  9.710185e+05      96.000000\n",
       "max      2023.000000   1.170000e+13  1.266052e+08   32000.000000"
      ]
     },
     "execution_count": 21,
     "metadata": {},
     "output_type": "execute_result"
    }
   ],
   "source": [
    "Coverage_data.describe()        "
   ]
  },
  {
   "cell_type": "code",
   "execution_count": 22,
   "id": "cbe220b3-881b-4a61-9469-328ce06c8269",
   "metadata": {},
   "outputs": [
    {
     "data": {
      "text/plain": [
       "0     Aruba\n",
       "1     Aruba\n",
       "2     Aruba\n",
       "3     Aruba\n",
       "4     Aruba\n",
       "5     Aruba\n",
       "6     Aruba\n",
       "7     Aruba\n",
       "8     Aruba\n",
       "9     Aruba\n",
       "10    Aruba\n",
       "11    Aruba\n",
       "12    Aruba\n",
       "13    Aruba\n",
       "14    Aruba\n",
       "Name: NAME, dtype: object"
      ]
     },
     "execution_count": 22,
     "metadata": {},
     "output_type": "execute_result"
    }
   ],
   "source": [
    "Coverage_data['NAME'].head(15)"
   ]
  },
  {
   "cell_type": "code",
   "execution_count": 23,
   "id": "d0b9c033-0682-48df-88b6-d7b749612b45",
   "metadata": {},
   "outputs": [],
   "source": [
    "Coverage_data['NAME']=Coverage_data['NAME'].fillna(method='ffill')"
   ]
  },
  {
   "cell_type": "code",
   "execution_count": 24,
   "id": "a8f07f23-bb19-4b26-93eb-162b0047b89f",
   "metadata": {},
   "outputs": [
    {
     "data": {
      "text/plain": [
       "0         True\n",
       "1         True\n",
       "2         True\n",
       "3         True\n",
       "4         True\n",
       "          ... \n",
       "399854    True\n",
       "399855    True\n",
       "399856    True\n",
       "399857    True\n",
       "399858    True\n",
       "Name: NAME, Length: 399859, dtype: bool"
      ]
     },
     "execution_count": 24,
     "metadata": {},
     "output_type": "execute_result"
    }
   ],
   "source": [
    "Coverage_data['NAME'].notnull()"
   ]
  },
  {
   "cell_type": "code",
   "execution_count": 25,
   "id": "2c649190-335a-413b-9c74-6feef7f084e2",
   "metadata": {},
   "outputs": [
    {
     "data": {
      "text/plain": [
       "0"
      ]
     },
     "execution_count": 25,
     "metadata": {},
     "output_type": "execute_result"
    }
   ],
   "source": [
    "Coverage_data['NAME'].isnull().sum()"
   ]
  },
  {
   "cell_type": "code",
   "execution_count": 26,
   "id": "f9134ece-41af-4802-a0e3-9f2905be121e",
   "metadata": {},
   "outputs": [],
   "source": [
    "#extract object column\n",
    "#Coverage_data.select_dtypes(include=\"object\")"
   ]
  },
  {
   "cell_type": "code",
   "execution_count": 27,
   "id": "d584fed7-51b9-4ae1-877a-5529a758760d",
   "metadata": {},
   "outputs": [],
   "source": [
    "# fill the object values with their forward value\n",
    "for i in Coverage_data.select_dtypes(include=\"object\"):\n",
    "    Coverage_data[i]=Coverage_data[i].fillna(method='ffill')"
   ]
  },
  {
   "cell_type": "code",
   "execution_count": 28,
   "id": "f3a99a9b-cf65-4ee4-9dd6-5f7f4bb408a9",
   "metadata": {},
   "outputs": [
    {
     "data": {
      "text/plain": [
       "GROUP                                 0\n",
       "CODE                                  0\n",
       "NAME                                  0\n",
       "YEAR                                  1\n",
       "ANTIGEN                               0\n",
       "ANTIGEN_DESCRIPTION                   0\n",
       "COVERAGE_CATEGORY                     0\n",
       "COVERAGE_CATEGORY_DESCRIPTION         0\n",
       "TARGET_NUMBER                    320829\n",
       "DOSES                            320532\n",
       "COVERAGE                         169382\n",
       "dtype: int64"
      ]
     },
     "execution_count": 28,
     "metadata": {},
     "output_type": "execute_result"
    }
   ],
   "source": [
    "Coverage_data.isnull().sum()"
   ]
  },
  {
   "cell_type": "code",
   "execution_count": 29,
   "id": "11b43a48-022f-453d-b6ea-444a59dad608",
   "metadata": {},
   "outputs": [],
   "source": [
    "for values in Coverage_data.select_dtypes(include=\"float\"):\n",
    "    Coverage_data[values]=Coverage_data[values].fillna(method='bfill')"
   ]
  },
  {
   "cell_type": "code",
   "execution_count": 30,
   "id": "a52a19ff-b110-4b21-a0ab-f4a7df08eeb0",
   "metadata": {},
   "outputs": [
    {
     "data": {
      "text/plain": [
       "GROUP                            0\n",
       "CODE                             0\n",
       "NAME                             0\n",
       "YEAR                             1\n",
       "ANTIGEN                          0\n",
       "ANTIGEN_DESCRIPTION              0\n",
       "COVERAGE_CATEGORY                0\n",
       "COVERAGE_CATEGORY_DESCRIPTION    0\n",
       "TARGET_NUMBER                    1\n",
       "DOSES                            1\n",
       "COVERAGE                         1\n",
       "dtype: int64"
      ]
     },
     "execution_count": 30,
     "metadata": {},
     "output_type": "execute_result"
    }
   ],
   "source": [
    "Coverage_data.isnull().sum()"
   ]
  },
  {
   "cell_type": "code",
   "execution_count": 31,
   "id": "759c32d2-342a-4b72-a385-c9445877f98d",
   "metadata": {},
   "outputs": [],
   "source": [
    "Coverage_data.to_csv(\"Coverage_data.csv\",index=False)"
   ]
  },
  {
   "cell_type": "code",
   "execution_count": 32,
   "id": "c03206c7-d4f6-4eb0-b339-59cbf6261e71",
   "metadata": {},
   "outputs": [
    {
     "data": {
      "text/plain": [
       "(399859, 11)"
      ]
     },
     "execution_count": 32,
     "metadata": {},
     "output_type": "execute_result"
    }
   ],
   "source": [
    "Coverage_data.shape"
   ]
  },
  {
   "cell_type": "code",
   "execution_count": 33,
   "id": "45f2c9d6-739a-42d4-893f-93d67ffb87f2",
   "metadata": {},
   "outputs": [],
   "source": [
    "data_cov=pd.read_csv(\"Coverage_data.csv\")"
   ]
  },
  {
   "cell_type": "code",
   "execution_count": 34,
   "id": "a7e1b1b4-1bdd-4788-af15-3ff24efd5b95",
   "metadata": {},
   "outputs": [
    {
     "data": {
      "text/html": [
       "<div>\n",
       "<style scoped>\n",
       "    .dataframe tbody tr th:only-of-type {\n",
       "        vertical-align: middle;\n",
       "    }\n",
       "\n",
       "    .dataframe tbody tr th {\n",
       "        vertical-align: top;\n",
       "    }\n",
       "\n",
       "    .dataframe thead th {\n",
       "        text-align: right;\n",
       "    }\n",
       "</style>\n",
       "<table border=\"1\" class=\"dataframe\">\n",
       "  <thead>\n",
       "    <tr style=\"text-align: right;\">\n",
       "      <th></th>\n",
       "      <th>GROUP</th>\n",
       "      <th>CODE</th>\n",
       "      <th>NAME</th>\n",
       "      <th>YEAR</th>\n",
       "      <th>ANTIGEN</th>\n",
       "      <th>ANTIGEN_DESCRIPTION</th>\n",
       "      <th>COVERAGE_CATEGORY</th>\n",
       "      <th>COVERAGE_CATEGORY_DESCRIPTION</th>\n",
       "      <th>TARGET_NUMBER</th>\n",
       "      <th>DOSES</th>\n",
       "      <th>COVERAGE</th>\n",
       "    </tr>\n",
       "  </thead>\n",
       "  <tbody>\n",
       "    <tr>\n",
       "      <th>0</th>\n",
       "      <td>COUNTRIES</td>\n",
       "      <td>ABW</td>\n",
       "      <td>Aruba</td>\n",
       "      <td>2023.0</td>\n",
       "      <td>BCG</td>\n",
       "      <td>BCG</td>\n",
       "      <td>ADMIN</td>\n",
       "      <td>Administrative coverage</td>\n",
       "      <td>1044.0</td>\n",
       "      <td>945.0</td>\n",
       "      <td>90.52</td>\n",
       "    </tr>\n",
       "    <tr>\n",
       "      <th>1</th>\n",
       "      <td>COUNTRIES</td>\n",
       "      <td>ABW</td>\n",
       "      <td>Aruba</td>\n",
       "      <td>2023.0</td>\n",
       "      <td>BCG</td>\n",
       "      <td>BCG</td>\n",
       "      <td>OFFICIAL</td>\n",
       "      <td>Official coverage</td>\n",
       "      <td>1044.0</td>\n",
       "      <td>945.0</td>\n",
       "      <td>90.52</td>\n",
       "    </tr>\n",
       "    <tr>\n",
       "      <th>2</th>\n",
       "      <td>COUNTRIES</td>\n",
       "      <td>ABW</td>\n",
       "      <td>Aruba</td>\n",
       "      <td>2023.0</td>\n",
       "      <td>DIPHCV4</td>\n",
       "      <td>Diphtheria-containing vaccine, 4th dose (1st b...</td>\n",
       "      <td>ADMIN</td>\n",
       "      <td>Administrative coverage</td>\n",
       "      <td>1044.0</td>\n",
       "      <td>945.0</td>\n",
       "      <td>90.52</td>\n",
       "    </tr>\n",
       "    <tr>\n",
       "      <th>3</th>\n",
       "      <td>COUNTRIES</td>\n",
       "      <td>ABW</td>\n",
       "      <td>Aruba</td>\n",
       "      <td>2023.0</td>\n",
       "      <td>DIPHCV4</td>\n",
       "      <td>Diphtheria-containing vaccine, 4th dose (1st b...</td>\n",
       "      <td>OFFICIAL</td>\n",
       "      <td>Official coverage</td>\n",
       "      <td>1219.0</td>\n",
       "      <td>1008.0</td>\n",
       "      <td>90.52</td>\n",
       "    </tr>\n",
       "    <tr>\n",
       "      <th>4</th>\n",
       "      <td>COUNTRIES</td>\n",
       "      <td>ABW</td>\n",
       "      <td>Aruba</td>\n",
       "      <td>2023.0</td>\n",
       "      <td>DIPHCV5</td>\n",
       "      <td>Diphtheria-containing vaccine, 5th dose (2nd b...</td>\n",
       "      <td>ADMIN</td>\n",
       "      <td>Administrative coverage</td>\n",
       "      <td>1219.0</td>\n",
       "      <td>1008.0</td>\n",
       "      <td>82.69</td>\n",
       "    </tr>\n",
       "  </tbody>\n",
       "</table>\n",
       "</div>"
      ],
      "text/plain": [
       "       GROUP CODE   NAME    YEAR  ANTIGEN  \\\n",
       "0  COUNTRIES  ABW  Aruba  2023.0      BCG   \n",
       "1  COUNTRIES  ABW  Aruba  2023.0      BCG   \n",
       "2  COUNTRIES  ABW  Aruba  2023.0  DIPHCV4   \n",
       "3  COUNTRIES  ABW  Aruba  2023.0  DIPHCV4   \n",
       "4  COUNTRIES  ABW  Aruba  2023.0  DIPHCV5   \n",
       "\n",
       "                                 ANTIGEN_DESCRIPTION COVERAGE_CATEGORY  \\\n",
       "0                                                BCG             ADMIN   \n",
       "1                                                BCG          OFFICIAL   \n",
       "2  Diphtheria-containing vaccine, 4th dose (1st b...             ADMIN   \n",
       "3  Diphtheria-containing vaccine, 4th dose (1st b...          OFFICIAL   \n",
       "4  Diphtheria-containing vaccine, 5th dose (2nd b...             ADMIN   \n",
       "\n",
       "  COVERAGE_CATEGORY_DESCRIPTION  TARGET_NUMBER   DOSES  COVERAGE  \n",
       "0       Administrative coverage         1044.0   945.0     90.52  \n",
       "1             Official coverage         1044.0   945.0     90.52  \n",
       "2       Administrative coverage         1044.0   945.0     90.52  \n",
       "3             Official coverage         1219.0  1008.0     90.52  \n",
       "4       Administrative coverage         1219.0  1008.0     82.69  "
      ]
     },
     "execution_count": 34,
     "metadata": {},
     "output_type": "execute_result"
    }
   ],
   "source": [
    "data_cov.head()"
   ]
  },
  {
   "cell_type": "code",
   "execution_count": null,
   "id": "576d6a1e-442f-4899-a3fc-93350205fec9",
   "metadata": {},
   "outputs": [],
   "source": []
  },
  {
   "cell_type": "code",
   "execution_count": 35,
   "id": "f8f38ed4-c29a-45db-bad8-5ba9b1c28c83",
   "metadata": {},
   "outputs": [
    {
     "data": {
      "text/plain": [
       "ISO_3_CODE                  0\n",
       "COUNTRYNAME                 1\n",
       "WHO_REGION                  1\n",
       "YEAR                        1\n",
       "VACCINECODE                 1\n",
       "VACCINE_DESCRIPTION         1\n",
       "SCHEDULEROUNDS              1\n",
       "TARGETPOP                4258\n",
       "TARGETPOP_DESCRIPTION       1\n",
       "GEOAREA                    31\n",
       "AGEADMINISTERED          1046\n",
       "SOURCECOMMENT            2914\n",
       "dtype: int64"
      ]
     },
     "execution_count": 35,
     "metadata": {},
     "output_type": "execute_result"
    }
   ],
   "source": [
    "schedule_data.isnull().sum()"
   ]
  },
  {
   "cell_type": "code",
   "execution_count": 36,
   "id": "0e3561f6-5f82-473c-824d-5754fe1e8093",
   "metadata": {},
   "outputs": [
    {
     "data": {
      "text/plain": [
       "ISO_3_CODE                  0\n",
       "COUNTRYNAME                 1\n",
       "WHO_REGION                  1\n",
       "VACCINECODE                 1\n",
       "VACCINE_DESCRIPTION         1\n",
       "TARGETPOP                4258\n",
       "TARGETPOP_DESCRIPTION       1\n",
       "GEOAREA                    31\n",
       "AGEADMINISTERED          1046\n",
       "SOURCECOMMENT            2914\n",
       "dtype: int64"
      ]
     },
     "execution_count": 36,
     "metadata": {},
     "output_type": "execute_result"
    }
   ],
   "source": [
    "# all the object data which is null\n",
    "schedule_data.select_dtypes(include='object').isnull().sum()"
   ]
  },
  {
   "cell_type": "code",
   "execution_count": 37,
   "id": "1aedf0c5-d208-40dd-a5b8-c5579d97144f",
   "metadata": {},
   "outputs": [],
   "source": [
    "for i in schedule_data.select_dtypes(include='object'):\n",
    "    schedule_data[i]=schedule_data[i].fillna(method='ffill')"
   ]
  },
  {
   "cell_type": "code",
   "execution_count": 38,
   "id": "54b154f6-44ed-48af-a1e2-ce8b97d584a0",
   "metadata": {},
   "outputs": [
    {
     "data": {
      "text/plain": [
       "ISO_3_CODE               0\n",
       "COUNTRYNAME              0\n",
       "WHO_REGION               0\n",
       "YEAR                     1\n",
       "VACCINECODE              0\n",
       "VACCINE_DESCRIPTION      0\n",
       "SCHEDULEROUNDS           1\n",
       "TARGETPOP                3\n",
       "TARGETPOP_DESCRIPTION    0\n",
       "GEOAREA                  0\n",
       "AGEADMINISTERED          0\n",
       "SOURCECOMMENT            6\n",
       "dtype: int64"
      ]
     },
     "execution_count": 38,
     "metadata": {},
     "output_type": "execute_result"
    }
   ],
   "source": [
    "schedule_data.isnull().sum()"
   ]
  },
  {
   "cell_type": "code",
   "execution_count": 39,
   "id": "c1937f6e-c345-40e4-b389-3a6db5f873cc",
   "metadata": {},
   "outputs": [],
   "source": [
    "# fill float values\n",
    "for j in schedule_data.select_dtypes(include='float'):\n",
    "    schedule_data[j]=schedule_data[j].fillna(method='bfill')"
   ]
  },
  {
   "cell_type": "code",
   "execution_count": 40,
   "id": "da8c5c8a-aba9-44d2-a92c-b4c3a8a6812a",
   "metadata": {},
   "outputs": [
    {
     "data": {
      "text/plain": [
       "dtype('O')"
      ]
     },
     "execution_count": 40,
     "metadata": {},
     "output_type": "execute_result"
    }
   ],
   "source": [
    "schedule_data['TARGETPOP'].dtypes"
   ]
  },
  {
   "cell_type": "code",
   "execution_count": 41,
   "id": "b23b1f34-e714-4623-ab47-33dacae124cd",
   "metadata": {},
   "outputs": [
    {
     "data": {
      "text/plain": [
       "ISO_3_CODE               0\n",
       "COUNTRYNAME              0\n",
       "WHO_REGION               0\n",
       "YEAR                     1\n",
       "VACCINECODE              0\n",
       "VACCINE_DESCRIPTION      0\n",
       "SCHEDULEROUNDS           1\n",
       "TARGETPOP                3\n",
       "TARGETPOP_DESCRIPTION    0\n",
       "GEOAREA                  0\n",
       "AGEADMINISTERED          0\n",
       "SOURCECOMMENT            6\n",
       "dtype: int64"
      ]
     },
     "execution_count": 41,
     "metadata": {},
     "output_type": "execute_result"
    }
   ],
   "source": [
    "schedule_data.isnull().sum()"
   ]
  },
  {
   "cell_type": "code",
   "execution_count": 42,
   "id": "864b387e-f582-4fd9-bbbf-3f2de58de00f",
   "metadata": {},
   "outputs": [
    {
     "data": {
      "text/plain": [
       "(8053, 12)"
      ]
     },
     "execution_count": 42,
     "metadata": {},
     "output_type": "execute_result"
    }
   ],
   "source": [
    "schedule_data.shape"
   ]
  },
  {
   "cell_type": "code",
   "execution_count": 43,
   "id": "2cae4ea7-15f1-4a06-84c3-41f1ddb0ddf2",
   "metadata": {},
   "outputs": [],
   "source": [
    "schedule_data.to_csv(\"Schedule.csv\")"
   ]
  },
  {
   "cell_type": "code",
   "execution_count": 44,
   "id": "cbd24bde-3f09-44ec-a667-1d9559e396a2",
   "metadata": {},
   "outputs": [],
   "source": [
    "sch_data= pd.read_csv(\"Schedule.csv\")\n"
   ]
  },
  {
   "cell_type": "code",
   "execution_count": 45,
   "id": "89b59645-ba04-460c-a864-b0933c61a892",
   "metadata": {},
   "outputs": [
    {
     "data": {
      "text/html": [
       "<div>\n",
       "<style scoped>\n",
       "    .dataframe tbody tr th:only-of-type {\n",
       "        vertical-align: middle;\n",
       "    }\n",
       "\n",
       "    .dataframe tbody tr th {\n",
       "        vertical-align: top;\n",
       "    }\n",
       "\n",
       "    .dataframe thead th {\n",
       "        text-align: right;\n",
       "    }\n",
       "</style>\n",
       "<table border=\"1\" class=\"dataframe\">\n",
       "  <thead>\n",
       "    <tr style=\"text-align: right;\">\n",
       "      <th></th>\n",
       "      <th>Unnamed: 0</th>\n",
       "      <th>ISO_3_CODE</th>\n",
       "      <th>COUNTRYNAME</th>\n",
       "      <th>WHO_REGION</th>\n",
       "      <th>YEAR</th>\n",
       "      <th>VACCINECODE</th>\n",
       "      <th>VACCINE_DESCRIPTION</th>\n",
       "      <th>SCHEDULEROUNDS</th>\n",
       "      <th>TARGETPOP</th>\n",
       "      <th>TARGETPOP_DESCRIPTION</th>\n",
       "      <th>GEOAREA</th>\n",
       "      <th>AGEADMINISTERED</th>\n",
       "      <th>SOURCECOMMENT</th>\n",
       "    </tr>\n",
       "  </thead>\n",
       "  <tbody>\n",
       "    <tr>\n",
       "      <th>0</th>\n",
       "      <td>0</td>\n",
       "      <td>ABW</td>\n",
       "      <td>Aruba</td>\n",
       "      <td>AMRO</td>\n",
       "      <td>2023.0</td>\n",
       "      <td>DTAPHIBIPV</td>\n",
       "      <td>DTaP-Hib-IPV (acellular) vaccine</td>\n",
       "      <td>1.0</td>\n",
       "      <td>NaN</td>\n",
       "      <td>General/routine</td>\n",
       "      <td>NATIONAL</td>\n",
       "      <td>M2</td>\n",
       "      <td>NaN</td>\n",
       "    </tr>\n",
       "    <tr>\n",
       "      <th>1</th>\n",
       "      <td>1</td>\n",
       "      <td>ABW</td>\n",
       "      <td>Aruba</td>\n",
       "      <td>AMRO</td>\n",
       "      <td>2023.0</td>\n",
       "      <td>DTAPHIBIPV</td>\n",
       "      <td>DTaP-Hib-IPV (acellular) vaccine</td>\n",
       "      <td>2.0</td>\n",
       "      <td>NaN</td>\n",
       "      <td>General/routine</td>\n",
       "      <td>NATIONAL</td>\n",
       "      <td>M4</td>\n",
       "      <td>NaN</td>\n",
       "    </tr>\n",
       "    <tr>\n",
       "      <th>2</th>\n",
       "      <td>2</td>\n",
       "      <td>ABW</td>\n",
       "      <td>Aruba</td>\n",
       "      <td>AMRO</td>\n",
       "      <td>2023.0</td>\n",
       "      <td>DTAPHIBIPV</td>\n",
       "      <td>DTaP-Hib-IPV (acellular) vaccine</td>\n",
       "      <td>3.0</td>\n",
       "      <td>NaN</td>\n",
       "      <td>General/routine</td>\n",
       "      <td>NATIONAL</td>\n",
       "      <td>M6</td>\n",
       "      <td>NaN</td>\n",
       "    </tr>\n",
       "    <tr>\n",
       "      <th>3</th>\n",
       "      <td>3</td>\n",
       "      <td>ABW</td>\n",
       "      <td>Aruba</td>\n",
       "      <td>AMRO</td>\n",
       "      <td>2023.0</td>\n",
       "      <td>DTAPHIBIPV</td>\n",
       "      <td>DTaP-Hib-IPV (acellular) vaccine</td>\n",
       "      <td>4.0</td>\n",
       "      <td>B_2YL_W</td>\n",
       "      <td>General/routine</td>\n",
       "      <td>NATIONAL</td>\n",
       "      <td>M15</td>\n",
       "      <td>NaN</td>\n",
       "    </tr>\n",
       "    <tr>\n",
       "      <th>4</th>\n",
       "      <td>4</td>\n",
       "      <td>ABW</td>\n",
       "      <td>Aruba</td>\n",
       "      <td>AMRO</td>\n",
       "      <td>2023.0</td>\n",
       "      <td>DTAPIPV</td>\n",
       "      <td>DTaP-IPV (acellular) vaccine</td>\n",
       "      <td>5.0</td>\n",
       "      <td>B_CHILD_W</td>\n",
       "      <td>General/routine</td>\n",
       "      <td>NATIONAL</td>\n",
       "      <td>Y4</td>\n",
       "      <td>NaN</td>\n",
       "    </tr>\n",
       "  </tbody>\n",
       "</table>\n",
       "</div>"
      ],
      "text/plain": [
       "   Unnamed: 0 ISO_3_CODE COUNTRYNAME WHO_REGION    YEAR VACCINECODE  \\\n",
       "0           0        ABW       Aruba       AMRO  2023.0  DTAPHIBIPV   \n",
       "1           1        ABW       Aruba       AMRO  2023.0  DTAPHIBIPV   \n",
       "2           2        ABW       Aruba       AMRO  2023.0  DTAPHIBIPV   \n",
       "3           3        ABW       Aruba       AMRO  2023.0  DTAPHIBIPV   \n",
       "4           4        ABW       Aruba       AMRO  2023.0     DTAPIPV   \n",
       "\n",
       "                VACCINE_DESCRIPTION  SCHEDULEROUNDS  TARGETPOP  \\\n",
       "0  DTaP-Hib-IPV (acellular) vaccine             1.0        NaN   \n",
       "1  DTaP-Hib-IPV (acellular) vaccine             2.0        NaN   \n",
       "2  DTaP-Hib-IPV (acellular) vaccine             3.0        NaN   \n",
       "3  DTaP-Hib-IPV (acellular) vaccine             4.0    B_2YL_W   \n",
       "4      DTaP-IPV (acellular) vaccine             5.0  B_CHILD_W   \n",
       "\n",
       "  TARGETPOP_DESCRIPTION   GEOAREA AGEADMINISTERED SOURCECOMMENT  \n",
       "0       General/routine  NATIONAL              M2           NaN  \n",
       "1       General/routine  NATIONAL              M4           NaN  \n",
       "2       General/routine  NATIONAL              M6           NaN  \n",
       "3       General/routine  NATIONAL             M15           NaN  \n",
       "4       General/routine  NATIONAL              Y4           NaN  "
      ]
     },
     "execution_count": 45,
     "metadata": {},
     "output_type": "execute_result"
    }
   ],
   "source": [
    "sch_data.head()"
   ]
  },
  {
   "cell_type": "code",
   "execution_count": null,
   "id": "a74176e6-1727-495a-b9dc-104a69e366c0",
   "metadata": {},
   "outputs": [],
   "source": []
  },
  {
   "cell_type": "code",
   "execution_count": 46,
   "id": "b6786d98-8957-4533-87f4-e8c0206a3429",
   "metadata": {},
   "outputs": [
    {
     "data": {
      "text/plain": [
       "ISO_3_CODE     0\n",
       "COUNTRYNAME    1\n",
       "WHO_REGION     1\n",
       "YEAR           1\n",
       "DESCRIPTION    1\n",
       "INTRO          1\n",
       "dtype: int64"
      ]
     },
     "execution_count": 46,
     "metadata": {},
     "output_type": "execute_result"
    }
   ],
   "source": [
    "intro_data.isnull().sum()"
   ]
  },
  {
   "cell_type": "code",
   "execution_count": 47,
   "id": "6c771065-1c52-4be4-8520-b7d4f95adc33",
   "metadata": {},
   "outputs": [
    {
     "data": {
      "text/plain": [
       "ISO_3_CODE     0\n",
       "COUNTRYNAME    1\n",
       "WHO_REGION     1\n",
       "DESCRIPTION    1\n",
       "INTRO          1\n",
       "dtype: int64"
      ]
     },
     "execution_count": 47,
     "metadata": {},
     "output_type": "execute_result"
    }
   ],
   "source": [
    "intro_data.select_dtypes(include='object').isnull().sum()"
   ]
  },
  {
   "cell_type": "code",
   "execution_count": 48,
   "id": "8fe5c2b6-3da2-452c-b883-6d1777417cf0",
   "metadata": {},
   "outputs": [],
   "source": [
    "for i in intro_data.select_dtypes(include='object'):\n",
    "    intro_data[i].fillna(intro_data[i].mode()[0],inplace=True)"
   ]
  },
  {
   "cell_type": "code",
   "execution_count": 49,
   "id": "5bfc8665-0281-48a6-b5cc-cc7f23a66035",
   "metadata": {},
   "outputs": [
    {
     "data": {
      "text/plain": [
       "ISO_3_CODE     0\n",
       "COUNTRYNAME    0\n",
       "WHO_REGION     0\n",
       "YEAR           1\n",
       "DESCRIPTION    0\n",
       "INTRO          0\n",
       "dtype: int64"
      ]
     },
     "execution_count": 49,
     "metadata": {},
     "output_type": "execute_result"
    }
   ],
   "source": [
    "intro_data.isnull().sum()"
   ]
  },
  {
   "cell_type": "code",
   "execution_count": 50,
   "id": "b19c7b73-9a41-424b-9cfc-5b99a239d30c",
   "metadata": {},
   "outputs": [],
   "source": [
    "intro_data['YEAR']=intro_data['YEAR'].fillna(method='ffill')"
   ]
  },
  {
   "cell_type": "code",
   "execution_count": 51,
   "id": "4c585f1a-90c6-46dd-afb1-97b1fcaa7a33",
   "metadata": {},
   "outputs": [
    {
     "data": {
      "text/plain": [
       "ISO_3_CODE     0\n",
       "COUNTRYNAME    0\n",
       "WHO_REGION     0\n",
       "YEAR           0\n",
       "DESCRIPTION    0\n",
       "INTRO          0\n",
       "dtype: int64"
      ]
     },
     "execution_count": 51,
     "metadata": {},
     "output_type": "execute_result"
    }
   ],
   "source": [
    "intro_data.isnull().sum()"
   ]
  },
  {
   "cell_type": "code",
   "execution_count": 52,
   "id": "783a9e50-e624-4932-a26f-de8c47bee15d",
   "metadata": {},
   "outputs": [],
   "source": [
    "intro_data.to_csv('Intro.csv',index=False)"
   ]
  },
  {
   "cell_type": "code",
   "execution_count": 53,
   "id": "f6481217-c06f-4410-8052-5c4549f9ed31",
   "metadata": {},
   "outputs": [],
   "source": [
    "data_intro=pd.read_csv(\"Intro.csv\")"
   ]
  },
  {
   "cell_type": "code",
   "execution_count": null,
   "id": "4a94eab0-44b3-412a-9baf-f716fc0165fc",
   "metadata": {},
   "outputs": [],
   "source": []
  },
  {
   "cell_type": "code",
   "execution_count": 54,
   "id": "888666ae-7f10-417c-8b72-b42fe8a23bd5",
   "metadata": {},
   "outputs": [
    {
     "data": {
      "text/plain": [
       "GROUP                      0\n",
       "CODE                       1\n",
       "NAME                       1\n",
       "YEAR                       1\n",
       "DISEASE                    1\n",
       "DISEASE_DESCRIPTION        1\n",
       "CASES                  19400\n",
       "dtype: int64"
      ]
     },
     "execution_count": 54,
     "metadata": {},
     "output_type": "execute_result"
    }
   ],
   "source": [
    "report_case_data.isnull().sum()"
   ]
  },
  {
   "cell_type": "code",
   "execution_count": 55,
   "id": "cc09010d-60d0-4f62-afac-ea9bee1061d3",
   "metadata": {},
   "outputs": [],
   "source": [
    "for i in report_case_data.select_dtypes(include=\"object\"):\n",
    "        report_case_data[i]=report_case_data[i].fillna(method='bfill')\n",
    "\n"
   ]
  },
  {
   "cell_type": "code",
   "execution_count": 56,
   "id": "bb225ed1-c895-418a-84db-4a6e453279d4",
   "metadata": {},
   "outputs": [],
   "source": [
    "report_case_data['CASES']=report_case_data['CASES'].fillna(method='ffill')"
   ]
  },
  {
   "cell_type": "code",
   "execution_count": 57,
   "id": "08c4d75c-03af-4b64-af99-c81fc9a3731e",
   "metadata": {},
   "outputs": [
    {
     "data": {
      "text/plain": [
       "GROUP                  0\n",
       "CODE                   1\n",
       "NAME                   1\n",
       "YEAR                   1\n",
       "DISEASE                1\n",
       "DISEASE_DESCRIPTION    1\n",
       "CASES                  0\n",
       "dtype: int64"
      ]
     },
     "execution_count": 57,
     "metadata": {},
     "output_type": "execute_result"
    }
   ],
   "source": [
    "report_case_data.isnull().sum()"
   ]
  },
  {
   "cell_type": "code",
   "execution_count": 58,
   "id": "3ed47558-72d1-4174-ab85-5d81c290a117",
   "metadata": {},
   "outputs": [],
   "source": [
    "report_case_data['YEAR']=report_case_data['YEAR'].fillna(method='ffill')"
   ]
  },
  {
   "cell_type": "code",
   "execution_count": 59,
   "id": "a45e687d-5371-4f20-b459-ed79a037324c",
   "metadata": {},
   "outputs": [
    {
     "data": {
      "text/plain": [
       "GROUP                  0\n",
       "CODE                   1\n",
       "NAME                   1\n",
       "YEAR                   0\n",
       "DISEASE                1\n",
       "DISEASE_DESCRIPTION    1\n",
       "CASES                  0\n",
       "dtype: int64"
      ]
     },
     "execution_count": 59,
     "metadata": {},
     "output_type": "execute_result"
    }
   ],
   "source": [
    "report_case_data.isnull().sum()"
   ]
  },
  {
   "cell_type": "code",
   "execution_count": 60,
   "id": "b9a4d1b5-8337-4897-9711-d0bdf50852c4",
   "metadata": {},
   "outputs": [],
   "source": [
    "report_case=report_case_data.to_csv(\"report.csv\")"
   ]
  },
  {
   "cell_type": "code",
   "execution_count": 61,
   "id": "61ef9528-8637-42b5-b6ee-779a7a7cc352",
   "metadata": {},
   "outputs": [],
   "source": [
    "import pymysql\n"
   ]
  },
  {
   "cell_type": "code",
   "execution_count": 62,
   "id": "a3cd55ee-15ad-404d-a0fa-d996712ccd62",
   "metadata": {},
   "outputs": [],
   "source": [
    "conn=pymysql.connect(host='localhost',user='root',password='789456ujjwal@',database='vaccine_analysis')\n",
    "cursor=conn.cursor()\n"
   ]
  },
  {
   "cell_type": "code",
   "execution_count": 69,
   "id": "6fe87694-01c3-4c77-b975-4e9b02152832",
   "metadata": {},
   "outputs": [
    {
     "data": {
      "text/plain": [
       "0"
      ]
     },
     "execution_count": 69,
     "metadata": {},
     "output_type": "execute_result"
    }
   ],
   "source": [
    "cursor.execute(\"\"\"\n",
    "CREATE TABLE IF NOT EXISTS New_Incidence_data (\n",
    "            GROUP_Name VARCHAR(100),\n",
    "            CODE VARCHAR(100),\n",
    "            NAME VARCHAR(50),\n",
    "            YEAR DECIMAL(5,1),\n",
    "            DISEASE VARCHAR(100),\n",
    "            DISEASE_DESCRIPTION VARCHAR(150),\n",
    "            DENOMINATOR VARCHAR(100),\n",
    "            INCIDENCE_RATE DECIMAL(10,5)\n",
    "        )\n",
    "    \"\"\"\n",
    "              )\n",
    "\n"
   ]
  },
  {
   "cell_type": "code",
   "execution_count": null,
   "id": "ac3cfd71-aaa8-46e1-b452-b89b00854135",
   "metadata": {},
   "outputs": [],
   "source": []
  },
  {
   "cell_type": "code",
   "execution_count": 64,
   "id": "b61e7af0-bd7d-459b-a1de-3ef4c7533dda",
   "metadata": {},
   "outputs": [
    {
     "data": {
      "text/plain": [
       "0"
      ]
     },
     "execution_count": 64,
     "metadata": {},
     "output_type": "execute_result"
    }
   ],
   "source": [
    "cursor.execute(\"\"\"\n",
    "    CREATE TABLE IF NOT EXISTS new_data_Coverage (\n",
    "        GROUP_Name VARCHAR(100),\n",
    "        CODE VARCHAR(100),\n",
    "        NAME TEXT,\n",
    "        YEAR DECIMAL(15,2),\n",
    "        ANTIGEN VARCHAR(100),\n",
    "        ANTIGEN_DESCRIPTION VARCHAR(100),\n",
    "        COVERAGE_CATEGORY VARCHAR(100),\n",
    "        COVERAGE_CATEGORY_DESCRIPTION VARCHAR(150),\n",
    "        TARGET_NUMBER DECIMAL(15,2),\n",
    "        DOSES DECIMAL(15,2),\n",
    "        COVERAGE DECIMAL(5,2)\n",
    "    )\n",
    "\"\"\")\n"
   ]
  },
  {
   "cell_type": "code",
   "execution_count": 65,
   "id": "69476ec2-a9b5-44f0-b110-06f0d6c24690",
   "metadata": {},
   "outputs": [
    {
     "data": {
      "text/plain": [
       "0"
      ]
     },
     "execution_count": 65,
     "metadata": {},
     "output_type": "execute_result"
    }
   ],
   "source": [
    "cursor.execute( \"\"\"\n",
    "        CREATE TABLE IF NOT EXISTS new_data_schedule (\n",
    "            ISO_3_CODE VARCHAR(100),\n",
    "            COUNTRYNAME VARCHAR(100),\n",
    "            WHO_REGION VARCHAR(100),\n",
    "            YEAR DECIMAL(5,1),\n",
    "            VACCINECODE VARCHAR(50),\n",
    "            VACCINE_DESCRIPTION TEXT,\n",
    "            SCHEDULEROUNDS TEXT,\n",
    "            TARGETPOP VARCHAR(50),\n",
    "            TARGETPOP_DESCRIPTION TEXT,\n",
    "            GEOAREA VARCHAR(50),\n",
    "            AGEADMINISTERED DECIMAL(5,2),\n",
    "            SOURCECOMMENT TEXT\n",
    "        )\n",
    "        \"\"\"\n",
    "              )"
   ]
  },
  {
   "cell_type": "code",
   "execution_count": 66,
   "id": "6f21b3a5-b9e9-4306-ad41-d45bff71af4e",
   "metadata": {},
   "outputs": [
    {
     "data": {
      "text/plain": [
       "0"
      ]
     },
     "execution_count": 66,
     "metadata": {},
     "output_type": "execute_result"
    }
   ],
   "source": [
    "cursor.execute(\"\"\"\n",
    "            CREATE TABLE IF NOT EXISTS new_data_Intro (\n",
    "            ISO_3_CODE VARCHAR(5),\n",
    "            COUNTRYNAME TEXT,\n",
    "            WHO_REGION VARCHAR(10),\n",
    "            YEAR DECIMAL(5,2),\n",
    "            DESCRIPTION TEXT\n",
    "        )\n",
    "    \"\"\")"
   ]
  },
  {
   "cell_type": "code",
   "execution_count": null,
   "id": "86704c2b-160c-4f81-9f93-c1c905fd1912",
   "metadata": {},
   "outputs": [],
   "source": []
  },
  {
   "cell_type": "code",
   "execution_count": 67,
   "id": "94bff6af-1b27-4d3c-9d9d-fc9091991b7e",
   "metadata": {},
   "outputs": [],
   "source": [
    "cursor.execute(\"Drop TABLE new_data_Coverage \")\n",
    "conn.commit()"
   ]
  },
  {
   "cell_type": "code",
   "execution_count": 71,
   "id": "e3dffc02-32e0-49a5-864c-40f142fc6c65",
   "metadata": {},
   "outputs": [
    {
     "ename": "DataError",
     "evalue": "(1406, \"Data too long for column 'NAME' at row 1\")",
     "output_type": "error",
     "traceback": [
      "\u001b[1;31m---------------------------------------------------------------------------\u001b[0m",
      "\u001b[1;31mDataError\u001b[0m                                 Traceback (most recent call last)",
      "Cell \u001b[1;32mIn[71], line 7\u001b[0m\n\u001b[0;32m      5\u001b[0m \u001b[38;5;28;01mfor\u001b[39;00m i,row \u001b[38;5;129;01min\u001b[39;00m data_inc\u001b[38;5;241m.\u001b[39miterrows():\n\u001b[0;32m      6\u001b[0m     values\u001b[38;5;241m=\u001b[39m(row[\u001b[38;5;124m'\u001b[39m\u001b[38;5;124mGROUP\u001b[39m\u001b[38;5;124m'\u001b[39m],row[\u001b[38;5;124m'\u001b[39m\u001b[38;5;124mCODE\u001b[39m\u001b[38;5;124m'\u001b[39m],row[\u001b[38;5;124m'\u001b[39m\u001b[38;5;124mNAME\u001b[39m\u001b[38;5;124m'\u001b[39m],row[\u001b[38;5;124m'\u001b[39m\u001b[38;5;124mYEAR\u001b[39m\u001b[38;5;124m'\u001b[39m],row[\u001b[38;5;124m'\u001b[39m\u001b[38;5;124mDISEASE\u001b[39m\u001b[38;5;124m'\u001b[39m],row[\u001b[38;5;124m'\u001b[39m\u001b[38;5;124mDISEASE_DESCRIPTION\u001b[39m\u001b[38;5;124m'\u001b[39m],row[\u001b[38;5;124m'\u001b[39m\u001b[38;5;124mDENOMINATOR\u001b[39m\u001b[38;5;124m'\u001b[39m],row[\u001b[38;5;124m'\u001b[39m\u001b[38;5;124mINCIDENCE_RATE\u001b[39m\u001b[38;5;124m'\u001b[39m])\n\u001b[1;32m----> 7\u001b[0m     cursor\u001b[38;5;241m.\u001b[39mexecute(insert_query,values)\n\u001b[0;32m      8\u001b[0m     conn\u001b[38;5;241m.\u001b[39mcommit()\n",
      "File \u001b[1;32mD:\\anaconda\\Lib\\site-packages\\pymysql\\cursors.py:153\u001b[0m, in \u001b[0;36mCursor.execute\u001b[1;34m(self, query, args)\u001b[0m\n\u001b[0;32m    149\u001b[0m     \u001b[38;5;28;01mpass\u001b[39;00m\n\u001b[0;32m    151\u001b[0m query \u001b[38;5;241m=\u001b[39m \u001b[38;5;28mself\u001b[39m\u001b[38;5;241m.\u001b[39mmogrify(query, args)\n\u001b[1;32m--> 153\u001b[0m result \u001b[38;5;241m=\u001b[39m \u001b[38;5;28mself\u001b[39m\u001b[38;5;241m.\u001b[39m_query(query)\n\u001b[0;32m    154\u001b[0m \u001b[38;5;28mself\u001b[39m\u001b[38;5;241m.\u001b[39m_executed \u001b[38;5;241m=\u001b[39m query\n\u001b[0;32m    155\u001b[0m \u001b[38;5;28;01mreturn\u001b[39;00m result\n",
      "File \u001b[1;32mD:\\anaconda\\Lib\\site-packages\\pymysql\\cursors.py:322\u001b[0m, in \u001b[0;36mCursor._query\u001b[1;34m(self, q)\u001b[0m\n\u001b[0;32m    320\u001b[0m conn \u001b[38;5;241m=\u001b[39m \u001b[38;5;28mself\u001b[39m\u001b[38;5;241m.\u001b[39m_get_db()\n\u001b[0;32m    321\u001b[0m \u001b[38;5;28mself\u001b[39m\u001b[38;5;241m.\u001b[39m_clear_result()\n\u001b[1;32m--> 322\u001b[0m conn\u001b[38;5;241m.\u001b[39mquery(q)\n\u001b[0;32m    323\u001b[0m \u001b[38;5;28mself\u001b[39m\u001b[38;5;241m.\u001b[39m_do_get_result()\n\u001b[0;32m    324\u001b[0m \u001b[38;5;28;01mreturn\u001b[39;00m \u001b[38;5;28mself\u001b[39m\u001b[38;5;241m.\u001b[39mrowcount\n",
      "File \u001b[1;32mD:\\anaconda\\Lib\\site-packages\\pymysql\\connections.py:563\u001b[0m, in \u001b[0;36mConnection.query\u001b[1;34m(self, sql, unbuffered)\u001b[0m\n\u001b[0;32m    561\u001b[0m     sql \u001b[38;5;241m=\u001b[39m sql\u001b[38;5;241m.\u001b[39mencode(\u001b[38;5;28mself\u001b[39m\u001b[38;5;241m.\u001b[39mencoding, \u001b[38;5;124m\"\u001b[39m\u001b[38;5;124msurrogateescape\u001b[39m\u001b[38;5;124m\"\u001b[39m)\n\u001b[0;32m    562\u001b[0m \u001b[38;5;28mself\u001b[39m\u001b[38;5;241m.\u001b[39m_execute_command(COMMAND\u001b[38;5;241m.\u001b[39mCOM_QUERY, sql)\n\u001b[1;32m--> 563\u001b[0m \u001b[38;5;28mself\u001b[39m\u001b[38;5;241m.\u001b[39m_affected_rows \u001b[38;5;241m=\u001b[39m \u001b[38;5;28mself\u001b[39m\u001b[38;5;241m.\u001b[39m_read_query_result(unbuffered\u001b[38;5;241m=\u001b[39munbuffered)\n\u001b[0;32m    564\u001b[0m \u001b[38;5;28;01mreturn\u001b[39;00m \u001b[38;5;28mself\u001b[39m\u001b[38;5;241m.\u001b[39m_affected_rows\n",
      "File \u001b[1;32mD:\\anaconda\\Lib\\site-packages\\pymysql\\connections.py:825\u001b[0m, in \u001b[0;36mConnection._read_query_result\u001b[1;34m(self, unbuffered)\u001b[0m\n\u001b[0;32m    823\u001b[0m \u001b[38;5;28;01melse\u001b[39;00m:\n\u001b[0;32m    824\u001b[0m     result \u001b[38;5;241m=\u001b[39m MySQLResult(\u001b[38;5;28mself\u001b[39m)\n\u001b[1;32m--> 825\u001b[0m     result\u001b[38;5;241m.\u001b[39mread()\n\u001b[0;32m    826\u001b[0m \u001b[38;5;28mself\u001b[39m\u001b[38;5;241m.\u001b[39m_result \u001b[38;5;241m=\u001b[39m result\n\u001b[0;32m    827\u001b[0m \u001b[38;5;28;01mif\u001b[39;00m result\u001b[38;5;241m.\u001b[39mserver_status \u001b[38;5;129;01mis\u001b[39;00m \u001b[38;5;129;01mnot\u001b[39;00m \u001b[38;5;28;01mNone\u001b[39;00m:\n",
      "File \u001b[1;32mD:\\anaconda\\Lib\\site-packages\\pymysql\\connections.py:1199\u001b[0m, in \u001b[0;36mMySQLResult.read\u001b[1;34m(self)\u001b[0m\n\u001b[0;32m   1197\u001b[0m \u001b[38;5;28;01mdef\u001b[39;00m \u001b[38;5;21mread\u001b[39m(\u001b[38;5;28mself\u001b[39m):\n\u001b[0;32m   1198\u001b[0m     \u001b[38;5;28;01mtry\u001b[39;00m:\n\u001b[1;32m-> 1199\u001b[0m         first_packet \u001b[38;5;241m=\u001b[39m \u001b[38;5;28mself\u001b[39m\u001b[38;5;241m.\u001b[39mconnection\u001b[38;5;241m.\u001b[39m_read_packet()\n\u001b[0;32m   1201\u001b[0m         \u001b[38;5;28;01mif\u001b[39;00m first_packet\u001b[38;5;241m.\u001b[39mis_ok_packet():\n\u001b[0;32m   1202\u001b[0m             \u001b[38;5;28mself\u001b[39m\u001b[38;5;241m.\u001b[39m_read_ok_packet(first_packet)\n",
      "File \u001b[1;32mD:\\anaconda\\Lib\\site-packages\\pymysql\\connections.py:775\u001b[0m, in \u001b[0;36mConnection._read_packet\u001b[1;34m(self, packet_type)\u001b[0m\n\u001b[0;32m    773\u001b[0m     \u001b[38;5;28;01mif\u001b[39;00m \u001b[38;5;28mself\u001b[39m\u001b[38;5;241m.\u001b[39m_result \u001b[38;5;129;01mis\u001b[39;00m \u001b[38;5;129;01mnot\u001b[39;00m \u001b[38;5;28;01mNone\u001b[39;00m \u001b[38;5;129;01mand\u001b[39;00m \u001b[38;5;28mself\u001b[39m\u001b[38;5;241m.\u001b[39m_result\u001b[38;5;241m.\u001b[39munbuffered_active \u001b[38;5;129;01mis\u001b[39;00m \u001b[38;5;28;01mTrue\u001b[39;00m:\n\u001b[0;32m    774\u001b[0m         \u001b[38;5;28mself\u001b[39m\u001b[38;5;241m.\u001b[39m_result\u001b[38;5;241m.\u001b[39munbuffered_active \u001b[38;5;241m=\u001b[39m \u001b[38;5;28;01mFalse\u001b[39;00m\n\u001b[1;32m--> 775\u001b[0m     packet\u001b[38;5;241m.\u001b[39mraise_for_error()\n\u001b[0;32m    776\u001b[0m \u001b[38;5;28;01mreturn\u001b[39;00m packet\n",
      "File \u001b[1;32mD:\\anaconda\\Lib\\site-packages\\pymysql\\protocol.py:219\u001b[0m, in \u001b[0;36mMysqlPacket.raise_for_error\u001b[1;34m(self)\u001b[0m\n\u001b[0;32m    217\u001b[0m \u001b[38;5;28;01mif\u001b[39;00m DEBUG:\n\u001b[0;32m    218\u001b[0m     \u001b[38;5;28mprint\u001b[39m(\u001b[38;5;124m\"\u001b[39m\u001b[38;5;124merrno =\u001b[39m\u001b[38;5;124m\"\u001b[39m, errno)\n\u001b[1;32m--> 219\u001b[0m err\u001b[38;5;241m.\u001b[39mraise_mysql_exception(\u001b[38;5;28mself\u001b[39m\u001b[38;5;241m.\u001b[39m_data)\n",
      "File \u001b[1;32mD:\\anaconda\\Lib\\site-packages\\pymysql\\err.py:150\u001b[0m, in \u001b[0;36mraise_mysql_exception\u001b[1;34m(data)\u001b[0m\n\u001b[0;32m    148\u001b[0m \u001b[38;5;28;01mif\u001b[39;00m errorclass \u001b[38;5;129;01mis\u001b[39;00m \u001b[38;5;28;01mNone\u001b[39;00m:\n\u001b[0;32m    149\u001b[0m     errorclass \u001b[38;5;241m=\u001b[39m InternalError \u001b[38;5;28;01mif\u001b[39;00m errno \u001b[38;5;241m<\u001b[39m \u001b[38;5;241m1000\u001b[39m \u001b[38;5;28;01melse\u001b[39;00m OperationalError\n\u001b[1;32m--> 150\u001b[0m \u001b[38;5;28;01mraise\u001b[39;00m errorclass(errno, errval)\n",
      "\u001b[1;31mDataError\u001b[0m: (1406, \"Data too long for column 'NAME' at row 1\")"
     ]
    }
   ],
   "source": [
    "insert_query=\"\"\"\n",
    "        INSERT INTO New_Incidence_data (GROUP_Name, CODE, NAME, YEAR, DISEASE, DISEASE_DESCRIPTION, DENOMINATOR, INCIDENCE_RATE)\n",
    "        VALUES (%s, %s, %s, %s, %s, %s, %s, %s)\n",
    "    \"\"\"\n",
    "for i,row in data_inc.iterrows():\n",
    "    values=(row['GROUP'],row['CODE'],row['NAME'],row['YEAR'],row['DISEASE'],row['DISEASE_DESCRIPTION'],row['DENOMINATOR'],row['INCIDENCE_RATE'])\n",
    "    cursor.execute(insert_query,values)\n",
    "    conn.commit()\n",
    "    "
   ]
  },
  {
   "cell_type": "code",
   "execution_count": null,
   "id": "ca0764ca-ba2c-4563-b8a5-db0b3d62b6bc",
   "metadata": {},
   "outputs": [],
   "source": [
    "insert_query = \"\"\"\n",
    "        INSERT INTO new_data_Coverage (GROUP_Name, CODE, NAME, YEAR, ANTIGEN, ANTIGEN_DESCRIPTION, COVERAGE_CATEGORY, \n",
    "        COVERAGE_CATEGORY_DESCRIPTION, TARGET_NUMBER, DOSES, COVERAGE)\n",
    "        VALUES (%s, %s, %s, %s, %s, %s, %s, %s, %s, %s, %s)\n",
    "    \"\"\"\n",
    "for i, row in data_cov.iterrows():\n",
    "    values=(row['GROUP'],row['CODE'],row['NAME'],row['YEAR'],row['ANTIGEN'],row['ANTIGEN_DESCRIPTION'],row['COVERAGE_CATEGORY'],\n",
    "             row['COVERAGE_CATEGORY_DESCRIPTION'],row['TARGET_NUMBER'],row['DOSES'],row['COVERAGE'])\n",
    "    cursor.execute(insert_query,values)\n",
    "    conn.commit()\n",
    "    "
   ]
  },
  {
   "cell_type": "code",
   "execution_count": null,
   "id": "c8106d7c-fa17-4b62-b94e-4e44abcf1937",
   "metadata": {},
   "outputs": [],
   "source": [
    "insert_query=\"\"\"\n",
    "        INSERT INTO new_data_schedule (ISO_3_CODE, COUNTRYNAME, WHO_REGION, YEAR, VACCINECODE, VACCINE_DESCRIPTION, \n",
    "        SCHEDULEROUNDS, TARGETPOP, TARGETPOP_DESCRIPTION, GEOAREA, AGEADMINISTERED, SOURCECOMMENT)\n",
    "        VALUES (%s, %s, %s, %s, %s, %s, %s, %s, %s, %s, %s, %s)\n",
    "    \"\"\"\n",
    "for i,row in sch_data.iterrows():\n",
    "    values=(row['ISO_3_CODE'],row['COUNTRYNAME'],row['WHO_REGION'],row['YEAR'],row['VACCINECODE'],row['VACCINE_DESCRIPTION'],\n",
    "            row['SCHEDULEROUNDS'],row['TARGETPOP'],row['TARGETPOP_DESCRIPTION'],row['GEOAREA'],row['AGEADMINISTERED'],row['SOURCECOMMENT'])\n",
    "    cursor.execute(insert_query,values)\n",
    "    conn.commit()"
   ]
  },
  {
   "cell_type": "code",
   "execution_count": null,
   "id": "55fc015d-8f6a-4561-b3dc-ce4151b1f545",
   "metadata": {},
   "outputs": [],
   "source": [
    "insert_query=\"\"\"\n",
    "        INSERT INTO new_data_Intro (ISO_3_CODE, COUNTRYNAME, WHO_REGION, YEAR, DESCRIPTION)\n",
    "        VALUES (%s, %s, %s, %s, %s)\n",
    "    \"\"\"\n",
    "for i,row in data_intro.iterrows():\n",
    "    values=(row['ISO_3_CODE'],row['COUNTRYNAME'],row['WHO_REGION'],row['YEAR'],row['DESCRIPTION'])\n",
    "    cursor.execute(insert_query,values)\n",
    "    conn.commit()\n"
   ]
  },
  {
   "cell_type": "code",
   "execution_count": null,
   "id": "019f2122-30c8-4da0-ad92-9cb94ea67e95",
   "metadata": {},
   "outputs": [],
   "source": []
  },
  {
   "cell_type": "code",
   "execution_count": null,
   "id": "eedcf501-2e5b-41d3-9fa0-d3ebef6e36e5",
   "metadata": {},
   "outputs": [],
   "source": [
    "data_inc.columns"
   ]
  },
  {
   "cell_type": "code",
   "execution_count": null,
   "id": "962892f6-119b-4e15-8fec-5cd53cc7cc6c",
   "metadata": {},
   "outputs": [],
   "source": [
    "data_cov.columns"
   ]
  },
  {
   "cell_type": "code",
   "execution_count": null,
   "id": "1afdf621-347c-4cf5-9a3c-338a00db9734",
   "metadata": {},
   "outputs": [],
   "source": []
  }
 ],
 "metadata": {
  "kernelspec": {
   "display_name": "Python 3 (ipykernel)",
   "language": "python",
   "name": "python3"
  },
  "language_info": {
   "codemirror_mode": {
    "name": "ipython",
    "version": 3
   },
   "file_extension": ".py",
   "mimetype": "text/x-python",
   "name": "python",
   "nbconvert_exporter": "python",
   "pygments_lexer": "ipython3",
   "version": "3.12.7"
  }
 },
 "nbformat": 4,
 "nbformat_minor": 5
}
