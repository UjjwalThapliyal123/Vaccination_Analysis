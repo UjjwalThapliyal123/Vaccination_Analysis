{
 "cells": [
  {
   "cell_type": "code",
   "execution_count": 1,
   "id": "04514710-46da-4e93-9d40-0863773baace",
   "metadata": {},
   "outputs": [],
   "source": [
    "#importing libraries\n",
    "import pandas as pd\n",
    "import numpy as np\n",
    "import matplotlib.pyplot as plt\n",
    "import seaborn as sns\n",
    "import pymysql"
   ]
  },
  {
   "cell_type": "code",
   "execution_count": 3,
   "id": "fefa0c39-fd41-496a-8890-73c0b0443703",
   "metadata": {},
   "outputs": [],
   "source": [
    "#reading dataset\n",
    "cov=pd.read_csv('Coverage_data.csv')\n",
    "sch=pd.read_csv('Schedule.csv')\n",
    "intro=pd.read_csv('Intro.csv')\n",
    "rep=pd.read_csv('report.csv')\n",
    "inc=pd.read_csv('incidence_rate.csv')"
   ]
  },
  {
   "cell_type": "code",
   "execution_count": 23,
   "id": "673fcce8-56a0-4b52-b008-755bef6b0913",
   "metadata": {},
   "outputs": [],
   "source": [
    "# make csv file of them \n",
    "cov.to_csv('Coverage_data.csv')\n",
    "sch.to_csv('Schedule.csv')\n",
    "intro.to_csv('Intro.csv')\n",
    "rep.to_csv('report.csv')\n",
    "inc.to_csv('incidence_rate.csv')"
   ]
  },
  {
   "cell_type": "code",
   "execution_count": 3,
   "id": "4533b7b0-5c12-47b1-8660-786a3ce7c9ba",
   "metadata": {},
   "outputs": [
    {
     "data": {
      "text/html": [
       "<div>\n",
       "<style scoped>\n",
       "    .dataframe tbody tr th:only-of-type {\n",
       "        vertical-align: middle;\n",
       "    }\n",
       "\n",
       "    .dataframe tbody tr th {\n",
       "        vertical-align: top;\n",
       "    }\n",
       "\n",
       "    .dataframe thead th {\n",
       "        text-align: right;\n",
       "    }\n",
       "</style>\n",
       "<table border=\"1\" class=\"dataframe\">\n",
       "  <thead>\n",
       "    <tr style=\"text-align: right;\">\n",
       "      <th></th>\n",
       "      <th>GROUP</th>\n",
       "      <th>CODE</th>\n",
       "      <th>NAME</th>\n",
       "      <th>YEAR</th>\n",
       "      <th>ANTIGEN</th>\n",
       "      <th>ANTIGEN_DESCRIPTION</th>\n",
       "      <th>COVERAGE_CATEGORY</th>\n",
       "      <th>COVERAGE_CATEGORY_DESCRIPTION</th>\n",
       "      <th>TARGET_NUMBER</th>\n",
       "      <th>DOSES</th>\n",
       "      <th>COVERAGE</th>\n",
       "    </tr>\n",
       "  </thead>\n",
       "  <tbody>\n",
       "    <tr>\n",
       "      <th>0</th>\n",
       "      <td>COUNTRIES</td>\n",
       "      <td>ABW</td>\n",
       "      <td>Aruba</td>\n",
       "      <td>2023.0</td>\n",
       "      <td>BCG</td>\n",
       "      <td>BCG</td>\n",
       "      <td>ADMIN</td>\n",
       "      <td>Administrative coverage</td>\n",
       "      <td>1044.0</td>\n",
       "      <td>945.0</td>\n",
       "      <td>90.52</td>\n",
       "    </tr>\n",
       "    <tr>\n",
       "      <th>1</th>\n",
       "      <td>COUNTRIES</td>\n",
       "      <td>ABW</td>\n",
       "      <td>Aruba</td>\n",
       "      <td>2023.0</td>\n",
       "      <td>BCG</td>\n",
       "      <td>BCG</td>\n",
       "      <td>OFFICIAL</td>\n",
       "      <td>Official coverage</td>\n",
       "      <td>1044.0</td>\n",
       "      <td>945.0</td>\n",
       "      <td>90.52</td>\n",
       "    </tr>\n",
       "    <tr>\n",
       "      <th>2</th>\n",
       "      <td>COUNTRIES</td>\n",
       "      <td>ABW</td>\n",
       "      <td>Aruba</td>\n",
       "      <td>2023.0</td>\n",
       "      <td>DIPHCV4</td>\n",
       "      <td>Diphtheria-containing vaccine, 4th dose (1st b...</td>\n",
       "      <td>ADMIN</td>\n",
       "      <td>Administrative coverage</td>\n",
       "      <td>1044.0</td>\n",
       "      <td>945.0</td>\n",
       "      <td>90.52</td>\n",
       "    </tr>\n",
       "    <tr>\n",
       "      <th>3</th>\n",
       "      <td>COUNTRIES</td>\n",
       "      <td>ABW</td>\n",
       "      <td>Aruba</td>\n",
       "      <td>2023.0</td>\n",
       "      <td>DIPHCV4</td>\n",
       "      <td>Diphtheria-containing vaccine, 4th dose (1st b...</td>\n",
       "      <td>OFFICIAL</td>\n",
       "      <td>Official coverage</td>\n",
       "      <td>1219.0</td>\n",
       "      <td>1008.0</td>\n",
       "      <td>90.52</td>\n",
       "    </tr>\n",
       "    <tr>\n",
       "      <th>4</th>\n",
       "      <td>COUNTRIES</td>\n",
       "      <td>ABW</td>\n",
       "      <td>Aruba</td>\n",
       "      <td>2023.0</td>\n",
       "      <td>DIPHCV5</td>\n",
       "      <td>Diphtheria-containing vaccine, 5th dose (2nd b...</td>\n",
       "      <td>ADMIN</td>\n",
       "      <td>Administrative coverage</td>\n",
       "      <td>1219.0</td>\n",
       "      <td>1008.0</td>\n",
       "      <td>82.69</td>\n",
       "    </tr>\n",
       "  </tbody>\n",
       "</table>\n",
       "</div>"
      ],
      "text/plain": [
       "       GROUP CODE   NAME    YEAR  ANTIGEN  \\\n",
       "0  COUNTRIES  ABW  Aruba  2023.0      BCG   \n",
       "1  COUNTRIES  ABW  Aruba  2023.0      BCG   \n",
       "2  COUNTRIES  ABW  Aruba  2023.0  DIPHCV4   \n",
       "3  COUNTRIES  ABW  Aruba  2023.0  DIPHCV4   \n",
       "4  COUNTRIES  ABW  Aruba  2023.0  DIPHCV5   \n",
       "\n",
       "                                 ANTIGEN_DESCRIPTION COVERAGE_CATEGORY  \\\n",
       "0                                                BCG             ADMIN   \n",
       "1                                                BCG          OFFICIAL   \n",
       "2  Diphtheria-containing vaccine, 4th dose (1st b...             ADMIN   \n",
       "3  Diphtheria-containing vaccine, 4th dose (1st b...          OFFICIAL   \n",
       "4  Diphtheria-containing vaccine, 5th dose (2nd b...             ADMIN   \n",
       "\n",
       "  COVERAGE_CATEGORY_DESCRIPTION  TARGET_NUMBER   DOSES  COVERAGE  \n",
       "0       Administrative coverage         1044.0   945.0     90.52  \n",
       "1             Official coverage         1044.0   945.0     90.52  \n",
       "2       Administrative coverage         1044.0   945.0     90.52  \n",
       "3             Official coverage         1219.0  1008.0     90.52  \n",
       "4       Administrative coverage         1219.0  1008.0     82.69  "
      ]
     },
     "execution_count": 3,
     "metadata": {},
     "output_type": "execute_result"
    }
   ],
   "source": [
    "cov.head()"
   ]
  },
  {
   "cell_type": "code",
   "execution_count": 4,
   "id": "d9fa4fa0-336e-4d77-a5e3-655030fb308f",
   "metadata": {},
   "outputs": [
    {
     "data": {
      "text/plain": [
       "(399859, 11)"
      ]
     },
     "execution_count": 4,
     "metadata": {},
     "output_type": "execute_result"
    }
   ],
   "source": [
    "cov.shape #size"
   ]
  },
  {
   "cell_type": "code",
   "execution_count": 5,
   "id": "a79a1520-7739-42ef-a528-bdc47dc20358",
   "metadata": {},
   "outputs": [
    {
     "data": {
      "text/plain": [
       "GROUP                            0\n",
       "CODE                             0\n",
       "NAME                             0\n",
       "YEAR                             1\n",
       "ANTIGEN                          0\n",
       "ANTIGEN_DESCRIPTION              0\n",
       "COVERAGE_CATEGORY                0\n",
       "COVERAGE_CATEGORY_DESCRIPTION    0\n",
       "TARGET_NUMBER                    1\n",
       "DOSES                            1\n",
       "COVERAGE                         1\n",
       "dtype: int64"
      ]
     },
     "execution_count": 5,
     "metadata": {},
     "output_type": "execute_result"
    }
   ],
   "source": [
    "cov.isnull().sum() # getting the null values"
   ]
  },
  {
   "cell_type": "code",
   "execution_count": 6,
   "id": "790d5670-d847-4459-9e0f-b9bf3d1234cc",
   "metadata": {},
   "outputs": [],
   "source": [
    "cov=cov[~cov['YEAR'].isnull()]"
   ]
  },
  {
   "cell_type": "code",
   "execution_count": 7,
   "id": "b1e3a10f-51fa-4bd8-81da-d280af0b25dc",
   "metadata": {},
   "outputs": [
    {
     "data": {
      "text/plain": [
       "GROUP                            0\n",
       "CODE                             0\n",
       "NAME                             0\n",
       "YEAR                             0\n",
       "ANTIGEN                          0\n",
       "ANTIGEN_DESCRIPTION              0\n",
       "COVERAGE_CATEGORY                0\n",
       "COVERAGE_CATEGORY_DESCRIPTION    0\n",
       "TARGET_NUMBER                    0\n",
       "DOSES                            0\n",
       "COVERAGE                         0\n",
       "dtype: int64"
      ]
     },
     "execution_count": 7,
     "metadata": {},
     "output_type": "execute_result"
    }
   ],
   "source": [
    "cov.isnull().sum()"
   ]
  },
  {
   "cell_type": "code",
   "execution_count": 67,
   "id": "4821953a-5f76-45ea-b17f-5d2f6bdb5d05",
   "metadata": {},
   "outputs": [
    {
     "data": {
      "text/plain": [
       "Unnamed: 0               0\n",
       "ISO_3_CODE               0\n",
       "COUNTRYNAME              0\n",
       "WHO_REGION               0\n",
       "YEAR                     0\n",
       "VACCINECODE              0\n",
       "VACCINE_DESCRIPTION      0\n",
       "SCHEDULEROUNDS           0\n",
       "TARGETPOP                0\n",
       "TARGETPOP_DESCRIPTION    0\n",
       "GEOAREA                  0\n",
       "AGEADMINISTERED          0\n",
       "SOURCECOMMENT            0\n",
       "dtype: int64"
      ]
     },
     "execution_count": 67,
     "metadata": {},
     "output_type": "execute_result"
    }
   ],
   "source": [
    "sch.isnull().sum()"
   ]
  },
  {
   "cell_type": "code",
   "execution_count": 61,
   "id": "73115855-41ad-4f1f-a2be-d8e4e8443033",
   "metadata": {},
   "outputs": [],
   "source": [
    "sch=sch[~sch['SOURCECOMMENT'].isnull()]"
   ]
  },
  {
   "cell_type": "code",
   "execution_count": 65,
   "id": "05020b90-a3fc-4d57-8922-b451536c3191",
   "metadata": {},
   "outputs": [],
   "source": [
    "sch=sch[~sch['YEAR'].isnull()]"
   ]
  },
  {
   "cell_type": "code",
   "execution_count": 9,
   "id": "455ebe81-96ca-407f-9a0a-01ec2d8a5c65",
   "metadata": {},
   "outputs": [
    {
     "data": {
      "text/plain": [
       "Unnamed: 0             0\n",
       "GROUP                  0\n",
       "CODE                   0\n",
       "NAME                   0\n",
       "YEAR                   0\n",
       "DISEASE                0\n",
       "DISEASE_DESCRIPTION    0\n",
       "CASES                  0\n",
       "dtype: int64"
      ]
     },
     "execution_count": 9,
     "metadata": {},
     "output_type": "execute_result"
    }
   ],
   "source": [
    "rep.isnull().sum()"
   ]
  },
  {
   "cell_type": "code",
   "execution_count": 7,
   "id": "ac56a310-a443-4fba-8002-2e939a51851e",
   "metadata": {},
   "outputs": [],
   "source": [
    "rep=rep[~rep['CODE'].isnull()]"
   ]
  },
  {
   "cell_type": "code",
   "execution_count": null,
   "id": "d2cbfb45-9e13-4035-862c-ed2badc4a401",
   "metadata": {},
   "outputs": [],
   "source": []
  },
  {
   "cell_type": "code",
   "execution_count": 11,
   "id": "72ec7b0c-52c4-4dc4-a6a1-a4eaa483f893",
   "metadata": {},
   "outputs": [
    {
     "name": "stdout",
     "output_type": "stream",
     "text": [
      "connected\n"
     ]
    }
   ],
   "source": [
    "# creating sql connection\n",
    "conn=pymysql.connect(host='localhost',\n",
    "                     user='root',\n",
    "                     password='789456ujjwal@',\n",
    "                     database='vac_analysis'\n",
    "                    )\n",
    "cursor=conn.cursor()\n",
    "print('connected')"
   ]
  },
  {
   "cell_type": "code",
   "execution_count": 13,
   "id": "b9fb1266-cf5a-4deb-8173-f9ea7388f47c",
   "metadata": {},
   "outputs": [
    {
     "data": {
      "text/plain": [
       "0"
      ]
     },
     "execution_count": 13,
     "metadata": {},
     "output_type": "execute_result"
    }
   ],
   "source": [
    "cursor.execute(\"Drop table REPORT\")"
   ]
  },
  {
   "cell_type": "code",
   "execution_count": 10,
   "id": "69ee7122-1275-4d61-af6a-6ba016a3cb55",
   "metadata": {},
   "outputs": [
    {
     "data": {
      "text/plain": [
       "0"
      ]
     },
     "execution_count": 10,
     "metadata": {},
     "output_type": "execute_result"
    }
   ],
   "source": [
    "# creating table coverage\n",
    "cursor.execute(\"\"\"\n",
    "    CREATE TABLE IF NOT EXISTS COVERAGE(\n",
    "        GROUP_NAME varchar(100),\n",
    "        CODE varchar(100),\n",
    "        NAME varchar(255),\n",
    "        YEAR Decimal(6,1),\n",
    "        ANTIGEN  Text,\n",
    "        ANTIGEN_DESCRIPTION Text,\n",
    "        COVERAGE_CATEGORY varchar(100),\n",
    "        COVERAGE_CATEGORY_DESCRIPTION Text,\n",
    "        TARGET_NUMBER Decimal(20,2),\n",
    "        DOSES   Decimal(20,2),\n",
    "        COVERAGE Decimal(10,2)\n",
    "        )\n",
    "        \"\"\")\n"
   ]
  },
  {
   "cell_type": "code",
   "execution_count": null,
   "id": "f825e60f-8e23-4631-b06d-8e1637c5c34d",
   "metadata": {},
   "outputs": [],
   "source": []
  },
  {
   "cell_type": "code",
   "execution_count": 53,
   "id": "76cc6c10-fdf6-4c0f-bf68-54b5d9be32c0",
   "metadata": {},
   "outputs": [
    {
     "data": {
      "text/plain": [
       "0"
      ]
     },
     "execution_count": 53,
     "metadata": {},
     "output_type": "execute_result"
    }
   ],
   "source": [
    "# creating table incidence\n",
    "\n",
    "cursor.execute(\"\"\"\n",
    "CREATE TABLE IF NOT EXISTS INCIDENCE(\n",
    "            GROUP_Name VARCHAR(100),\n",
    "            CODE VARCHAR(100),\n",
    "            NAME VARCHAR(255),\n",
    "            YEAR Decimal(6,1),\n",
    "            DISEASE VARCHAR(100),\n",
    "            DISEASE_DESCRIPTION VARCHAR(150),\n",
    "            DENOMINATOR VARCHAR(100),\n",
    "            INCIDENCE_RATE DECIMAL(10,5)\n",
    "        )\n",
    "    \"\"\"\n",
    "              )\n"
   ]
  },
  {
   "cell_type": "code",
   "execution_count": 77,
   "id": "319119dc-fcb6-4dae-9e66-9b0ecba49715",
   "metadata": {},
   "outputs": [
    {
     "data": {
      "text/plain": [
       "0"
      ]
     },
     "execution_count": 77,
     "metadata": {},
     "output_type": "execute_result"
    }
   ],
   "source": [
    "# creating table schedule\n",
    "cursor.execute( \"\"\"\n",
    "        CREATE TABLE IF NOT EXISTS SCHEDULE (\n",
    "            ISO_3_CODE VARCHAR(100),\n",
    "            COUNTRYNAME VARCHAR(100),\n",
    "            WHO_REGION VARCHAR(100),\n",
    "            YEAR Decimal(6,1),\n",
    "            VACCINECODE VARCHAR(50),\n",
    "            VACCINE_DESCRIPTION TEXT,\n",
    "            SCHEDULEROUNDS TEXT,\n",
    "            TARGETPOP VARCHAR(50),\n",
    "            TARGETPOP_DESCRIPTION TEXT,\n",
    "            GEOAREA VARCHAR(50),\n",
    "            AGEADMINISTERED VARCHAR(255),\n",
    "            SOURCECOMMENT TEXT\n",
    "        )\n",
    "        \"\"\"\n",
    "              )"
   ]
  },
  {
   "cell_type": "code",
   "execution_count": 7,
   "id": "2f1ee4af-0fd3-446f-8d27-1f2da86e7811",
   "metadata": {},
   "outputs": [
    {
     "data": {
      "text/plain": [
       "0"
      ]
     },
     "execution_count": 7,
     "metadata": {},
     "output_type": "execute_result"
    }
   ],
   "source": [
    "# creating table intro\n",
    "cursor.execute(\"\"\"\n",
    "            CREATE TABLE IF NOT EXISTS INTRO (\n",
    "            ISO_3_CODE VARCHAR(5),\n",
    "            COUNTRYNAME TEXT,\n",
    "            WHO_REGION VARCHAR(10),\n",
    "            YEAR DECIMAL(10,1),\n",
    "            DESCRIPTION TEXT\n",
    "        )\n",
    "    \"\"\")"
   ]
  },
  {
   "cell_type": "code",
   "execution_count": 15,
   "id": "2a6bb3c1-4785-4f95-9030-1dafda348298",
   "metadata": {},
   "outputs": [
    {
     "data": {
      "text/plain": [
       "0"
      ]
     },
     "execution_count": 15,
     "metadata": {},
     "output_type": "execute_result"
    }
   ],
   "source": [
    "# creating table report\n",
    "cursor.execute(\"\"\"\n",
    "        CREATE TABLE IF NOT EXISTS REPORT (\n",
    "            GROUP_NAME VARCHAR(100),\n",
    "            CODE VARCHAR(10),\n",
    "            NAME VARCHAR(255),\n",
    "            YEAR DECIMAL(6,1),\n",
    "            DISEASE TEXT,\n",
    "            DISEASE_DESCRIPTION TEXT,\n",
    "            CASES DECIMAL(10,1)\n",
    "        )\n",
    "    \"\"\")"
   ]
  },
  {
   "cell_type": "code",
   "execution_count": null,
   "id": "484a5115-6230-4ce3-b04a-a5a1d13ef765",
   "metadata": {},
   "outputs": [],
   "source": []
  },
  {
   "cell_type": "code",
   "execution_count": null,
   "id": "f9c5688a-ccda-4787-9e6f-c820b9289e01",
   "metadata": {},
   "outputs": [],
   "source": [
    "#inserting values to it "
   ]
  },
  {
   "cell_type": "code",
   "execution_count": null,
   "id": "95b5dc42-dd1f-4727-923b-e02be52dc234",
   "metadata": {},
   "outputs": [],
   "source": [
    "insert_query=\"\"\"\n",
    "    Insert into COVERAGE (GROUP_NAME,CODE,NAME,YEAR,ANTIGEN,ANTIGEN_DESCRIPTION,COVERAGE_CATEGORY,COVERAGE_CATEGORY_DESCRIPTION,TARGET_NUMBER,DOSES,COVERAGE)\n",
    "    Values(%s ,%s ,%s ,%s ,%s ,%s ,%s ,%s ,%s ,%s ,%s)\n",
    "    \"\"\"\n",
    "for i,row in cov.iterrows():\n",
    "    Values=(row['GROUP'],row['CODE'],row['NAME'],row['YEAR'],row['ANTIGEN'],row['ANTIGEN_DESCRIPTION'],row['COVERAGE_CATEGORY'],row['COVERAGE_CATEGORY_DESCRIPTION']\n",
    "           ,row['TARGET_NUMBER'],row['DOSES'],row['COVERAGE'])\n",
    "    cursor.execute(insert_query,Values) \n",
    "    conn.commit()"
   ]
  },
  {
   "cell_type": "code",
   "execution_count": null,
   "id": "e76f58ae-5c67-44be-88f3-8bbc01807514",
   "metadata": {},
   "outputs": [],
   "source": [
    "insert_query=\"\"\"\n",
    "        INSERT INTO INCIDENCE (GROUP_Name, CODE, NAME, YEAR, DISEASE, DISEASE_DESCRIPTION, DENOMINATOR, INCIDENCE_RATE)\n",
    "        VALUES (%s, %s, %s, %s, %s, %s, %s, %s)\n",
    "    \"\"\"\n",
    "for i,row in inc.iterrows():\n",
    "    values=(row['GROUP'],row['CODE'],row['NAME'],row['YEAR'],row['DISEASE'],row['DISEASE_DESCRIPTION'],row['DENOMINATOR'],row['INCIDENCE_RATE'])\n",
    "    cursor.execute(insert_query,values)\n",
    "    conn.commit()\n",
    "    "
   ]
  },
  {
   "cell_type": "code",
   "execution_count": 79,
   "id": "65c65cfa-7f5d-4d11-8f5f-b7f91fc140e3",
   "metadata": {},
   "outputs": [],
   "source": [
    "insert_query=\"\"\"\n",
    "        INSERT INTO SCHEDULE (ISO_3_CODE, COUNTRYNAME, WHO_REGION, YEAR, VACCINECODE, VACCINE_DESCRIPTION, \n",
    "        SCHEDULEROUNDS, TARGETPOP, TARGETPOP_DESCRIPTION, GEOAREA, AGEADMINISTERED, SOURCECOMMENT)\n",
    "        VALUES (%s, %s, %s, %s, %s, %s, %s, %s, %s, %s, %s, %s)\n",
    "    \"\"\"\n",
    "for i,row in sch.iterrows():\n",
    "    values=(row['ISO_3_CODE'],row['COUNTRYNAME'],row['WHO_REGION'],row['YEAR'],row['VACCINECODE'],row['VACCINE_DESCRIPTION'],\n",
    "            row['SCHEDULEROUNDS'],row['TARGETPOP'],row['TARGETPOP_DESCRIPTION'],row['GEOAREA'],row['AGEADMINISTERED'],row['SOURCECOMMENT'])\n",
    "    cursor.execute(insert_query,values)\n",
    "    conn.commit()"
   ]
  },
  {
   "cell_type": "code",
   "execution_count": null,
   "id": "2c329582-2c13-4559-957a-fb423ba3e60e",
   "metadata": {},
   "outputs": [],
   "source": [
    "insert_query=\"\"\"\n",
    "        INSERT INTO INTRO (ISO_3_CODE, COUNTRYNAME, WHO_REGION, YEAR, DESCRIPTION)\n",
    "        VALUES (%s, %s, %s, %s, %s)\n",
    "    \"\"\"\n",
    "for i,row in intro.iterrows():\n",
    "    values=(row['ISO_3_CODE'],row['COUNTRYNAME'],row['WHO_REGION'],row['YEAR'],row['DESCRIPTION'])\n",
    "    cursor.execute(insert_query,values)\n",
    "    conn.commit()\n"
   ]
  },
  {
   "cell_type": "code",
   "execution_count": 17,
   "id": "4d55f285-929a-40f3-b097-36375c6ddd0e",
   "metadata": {},
   "outputs": [],
   "source": [
    "insert_query=\"\"\"\n",
    "        INSERT INTO REPORT (GROUP_NAME, CODE, NAME, YEAR, DISEASE, DISEASE_DESCRIPTION, CASES)\n",
    "        VALUES (%s, %s, %s, %s, %s, %s, %s)\n",
    "    \"\"\"\n",
    "for i,row in rep.iterrows():\n",
    "    values=(row['GROUP'],row['CODE'],row['NAME'],row['YEAR'],row['DISEASE'],row['DISEASE_DESCRIPTION'],row['CASES'])\n",
    "    cursor.execute(insert_query,values)\n",
    "    conn.commit()"
   ]
  },
  {
   "cell_type": "code",
   "execution_count": null,
   "id": "6886228b-e9ed-462f-87cb-271f5425d91d",
   "metadata": {},
   "outputs": [],
   "source": []
  }
 ],
 "metadata": {
  "kernelspec": {
   "display_name": "Python 3 (ipykernel)",
   "language": "python",
   "name": "python3"
  },
  "language_info": {
   "codemirror_mode": {
    "name": "ipython",
    "version": 3
   },
   "file_extension": ".py",
   "mimetype": "text/x-python",
   "name": "python",
   "nbconvert_exporter": "python",
   "pygments_lexer": "ipython3",
   "version": "3.12.7"
  }
 },
 "nbformat": 4,
 "nbformat_minor": 5
}
